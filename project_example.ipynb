{
 "cells": [
  {
   "cell_type": "code",
   "execution_count": 1,
   "metadata": {
    "colab": {
     "base_uri": "https://localhost:8080/"
    },
    "id": "PgRI7n9Az2Vz",
    "outputId": "feb91e49-8e1b-4519-fded-ed3b6bcda8b6",
    "scrolled": true
   },
   "outputs": [],
   "source": [
    "# pip install ujson"
   ]
  },
  {
   "cell_type": "code",
   "execution_count": 2,
   "metadata": {
    "colab": {
     "base_uri": "https://localhost:8080/"
    },
    "id": "qamDZL-80NJt",
    "outputId": "fac8e50c-e66a-4a14-c8c5-a073211d0e23"
   },
   "outputs": [],
   "source": [
    "# pip install args"
   ]
  },
  {
   "cell_type": "code",
   "execution_count": 3,
   "metadata": {
    "colab": {
     "base_uri": "https://localhost:8080/",
     "height": 723
    },
    "execution": {
     "iopub.execute_input": "2021-09-13T16:50:16.138244Z",
     "iopub.status.busy": "2021-09-13T16:50:16.137971Z",
     "iopub.status.idle": "2021-09-13T16:50:20.117433Z",
     "shell.execute_reply": "2021-09-13T16:50:20.116882Z",
     "shell.execute_reply.started": "2021-09-13T16:50:16.138189Z"
    },
    "id": "qqZDnt9Qzz4Z",
    "outputId": "def1de11-7f5e-4cc7-f6b6-9d2d50a56da5"
   },
   "outputs": [
    {
     "name": "stderr",
     "output_type": "stream",
     "text": [
      "2021-09-13 13:38:09.987245: W tensorflow/stream_executor/platform/default/dso_loader.cc:64] Could not load dynamic library 'libcudart.so.11.0'; dlerror: libcudart.so.11.0: cannot open shared object file: No such file or directory\n",
      "2021-09-13 13:38:09.987282: I tensorflow/stream_executor/cuda/cudart_stub.cc:29] Ignore above cudart dlerror if you do not have a GPU set up on your machine.\n"
     ]
    }
   ],
   "source": [
    "import numpy as np\n",
    "import os\n",
    "import spacy\n",
    "import ujson as json\n",
    "import urllib.request\n",
    "\n",
    "#from args import get_setup_args\n",
    "from codecs import open\n",
    "from collections import Counter\n",
    "from subprocess import run\n",
    "from tqdm import tqdm\n",
    "from zipfile import ZipFile"
   ]
  },
  {
   "cell_type": "code",
   "execution_count": 4,
   "metadata": {
    "execution": {
     "iopub.execute_input": "2021-09-13T16:50:24.923145Z",
     "iopub.status.busy": "2021-09-13T16:50:24.922962Z",
     "iopub.status.idle": "2021-09-13T16:50:25.124876Z",
     "shell.execute_reply": "2021-09-13T16:50:25.124163Z",
     "shell.execute_reply.started": "2021-09-13T16:50:24.923128Z"
    },
    "id": "nI49k-kq1PcW"
   },
   "outputs": [],
   "source": [
    "import os\n",
    "import re\n",
    "import json\n",
    "import string\n",
    "import numpy as np\n",
    "from tensorflow import keras\n",
    "from tensorflow.keras import layers\n",
    "from tokenizers import BertWordPieceTokenizer\n",
    "from transformers import BertTokenizer, TFBertModel, BertConfig\n",
    "\n",
    "max_len = 384\n",
    "configuration = BertConfig()  # default parameters and configuration for BERT"
   ]
  },
  {
   "cell_type": "code",
   "execution_count": 5,
   "metadata": {
    "execution": {
     "iopub.execute_input": "2021-09-13T16:50:25.998251Z",
     "iopub.status.busy": "2021-09-13T16:50:25.997834Z",
     "iopub.status.idle": "2021-09-13T16:50:27.792448Z",
     "shell.execute_reply": "2021-09-13T16:50:27.791839Z",
     "shell.execute_reply.started": "2021-09-13T16:50:25.998233Z"
    },
    "id": "ScLhg88w1IWF"
   },
   "outputs": [],
   "source": [
    "# Save the slow pretrained tokenizer\n",
    "slow_tokenizer = BertTokenizer.from_pretrained(\"bert-base-uncased\")\n",
    "save_path = \"bert_base_uncased/\"\n",
    "if not os.path.exists(save_path):\n",
    "    os.makedirs(save_path)\n",
    "slow_tokenizer.save_pretrained(save_path)\n",
    "\n",
    "# Load the fast tokenizer from saved file\n",
    "tokenizer = BertWordPieceTokenizer(\"bert_base_uncased/vocab.txt\", lowercase=True)"
   ]
  },
  {
   "cell_type": "markdown",
   "metadata": {
    "id": "vs16b_S6fhTD"
   },
   "source": [
    "# Args \n",
    "\n",
    "https://github.com/minggg/squad/blob/master/args.py"
   ]
  },
  {
   "cell_type": "code",
   "execution_count": 51,
   "metadata": {
    "execution": {
     "iopub.execute_input": "2021-09-13T16:50:33.477904Z",
     "iopub.status.busy": "2021-09-13T16:50:33.477309Z",
     "iopub.status.idle": "2021-09-13T16:50:33.482713Z",
     "shell.execute_reply": "2021-09-13T16:50:33.481977Z",
     "shell.execute_reply.started": "2021-09-13T16:50:33.477856Z"
    },
    "id": "14UBlcUTfjIR"
   },
   "outputs": [],
   "source": [
    "# Setup args \n",
    "\n",
    "# urls for getting data \n",
    "train_url = 'https://github.com/chrischute/squad/data/train-v2.0.json'\n",
    "dev_url = 'https://github.com/chrischute/squad/data/dev-v2.0.json'\n",
    "test_url = 'https://github.com/chrischute/squad/data/test-v2.0.json'\n",
    "glove_url = 'http://nlp.stanford.edu/data/glove.840B.300d.zip' # for word embeddings \n",
    "\n",
    "# paths to files \n",
    "dev_meta_file= './data/dev_meta.json'\n",
    "test_meta_file = './data/test_meta.json'\n",
    "word2idx_file = './data/word2idx.json'\n",
    "char2idx_file= './data/char2idx.json'\n",
    "answer_file= './data/answer.json'\n",
    "\n",
    "# limits of model \n",
    "para_limit =  500 # Max number of words in a paragraph\n",
    "ques_limit = 50  # Max number of words to keep from a question\n",
    "test_para_limit = 1000 # Max number of words in a paragraph at test time\n",
    "test_ques_limit = 100 # Max number of words in a question at test time\n",
    "ans_limit = 50 # Max number of words in a training example answer\n",
    "char_limit= 16 # Max number of chars to keep from a word\n",
    "\n",
    "# dimensions for embeddings \n",
    "char_dim = 64 # Size of char vectors (char-level embeddings)\n",
    "glove_dim = 300 #  Size of GloVe word vectors to use\n",
    "glove_num_vecs = 2196017 # Number of GloVe vectors\n",
    "\n",
    "include_test_examples = True # Process examples from the test set\n",
    "\n"
   ]
  },
  {
   "cell_type": "code",
   "execution_count": 52,
   "metadata": {},
   "outputs": [
    {
     "data": {
      "text/plain": [
       "500"
      ]
     },
     "execution_count": 52,
     "metadata": {},
     "output_type": "execute_result"
    }
   ],
   "source": [
    "para_limit"
   ]
  },
  {
   "cell_type": "code",
   "execution_count": 53,
   "metadata": {
    "execution": {
     "iopub.execute_input": "2021-09-13T16:50:34.254206Z",
     "iopub.status.busy": "2021-09-13T16:50:34.253607Z",
     "iopub.status.idle": "2021-09-13T16:50:34.259128Z",
     "shell.execute_reply": "2021-09-13T16:50:34.258392Z",
     "shell.execute_reply.started": "2021-09-13T16:50:34.254187Z"
    },
    "id": "UBeFo7_whWi6"
   },
   "outputs": [],
   "source": [
    "# Train ARGS \n",
    "\n",
    "\n",
    "eval_steps = 50_000 # Number of steps between successive evaluations\n",
    "lr = 0.5 # learning rate \n",
    "l2_wd = 0 # L2 weight decay\n",
    "drop_prob= 0.2  # Probability of zeroing an activation in dropout layers\n",
    "\n",
    "num_epochs = 5 # Number of epochs for which to train. Negative means forever.\n",
    "\n",
    "metric_name = 'F1' # Name of dev metric to determine best checkpoint   choices=('NLL', 'EM', 'F1')\n",
    "\n",
    "max_checkpoints= 5 # Maximum number of checkpoints to keep on disk\n",
    "\n",
    "# https://machinelearningmastery.com/how-to-avoid-exploding-gradients-in-neural-networks-with-gradient-clipping/\n",
    "max_grad_norm= 5 # Maximum gradient norm for gradient clipping\n",
    "\n",
    "# Random seed for reproducibility\n",
    "seed= 42 \n",
    "\n",
    "# Decay rate for exponential moving average of parameters\n",
    "ema_decay= 0.999 \n",
    "\n",
    "# set up metric for checkpoints \n",
    "if metric_name.upper() == 'NLL': maximize_metric = False \n",
    "elif metric_name.upper() in ('EM','F1'): maximize_metric= True\n",
    "else: raise ValueError(f'Unrecognized metric name: \"{args.metric_name}\"')"
   ]
  },
  {
   "cell_type": "code",
   "execution_count": 54,
   "metadata": {
    "execution": {
     "iopub.execute_input": "2021-09-13T16:50:34.974380Z",
     "iopub.status.busy": "2021-09-13T16:50:34.973840Z",
     "iopub.status.idle": "2021-09-13T16:50:34.979203Z",
     "shell.execute_reply": "2021-09-13T16:50:34.978563Z",
     "shell.execute_reply.started": "2021-09-13T16:50:34.974342Z"
    },
    "id": "AUz-q93Jkg-Z"
   },
   "outputs": [],
   "source": [
    "# TEST ARGS \n",
    "\n",
    "# Split to use for testing\n",
    "split = 'dev' # choices=('train', 'dev', 'test'),\n",
    "\n",
    "# Name for submission file\n",
    "sub_file= 'submission.csv'\n",
    "\n"
   ]
  },
  {
   "cell_type": "code",
   "execution_count": 55,
   "metadata": {
    "execution": {
     "iopub.execute_input": "2021-09-13T16:50:35.742302Z",
     "iopub.status.busy": "2021-09-13T16:50:35.741792Z",
     "iopub.status.idle": "2021-09-13T16:50:35.747087Z",
     "shell.execute_reply": "2021-09-13T16:50:35.746402Z",
     "shell.execute_reply.started": "2021-09-13T16:50:35.742249Z"
    },
    "id": "OsayiO91l_6G"
   },
   "outputs": [],
   "source": [
    "# Add arguments common to all 3 scripts: setup.py, train.py, test.py \n",
    "\n",
    "train_record_file= './data/train.npz' \n",
    "dev_record_file = './data/dev.npz'\n",
    "test_record_file = './data/test.npz'\n",
    "word_emb_file = './data/word_emb.json'\n",
    "char_emb_file = './data/char_emb.json'\n",
    "train_eval_file = './data/train_eval.json' \n",
    "dev_eval_file = './data/dev_eval.json' \n",
    "test_eval_file = './data/test_eval.json' \n",
    "\n"
   ]
  },
  {
   "cell_type": "code",
   "execution_count": 56,
   "metadata": {
    "execution": {
     "iopub.execute_input": "2021-09-13T16:50:37.191253Z",
     "iopub.status.busy": "2021-09-13T16:50:37.190590Z",
     "iopub.status.idle": "2021-09-13T16:50:37.195695Z",
     "shell.execute_reply": "2021-09-13T16:50:37.194981Z",
     "shell.execute_reply.started": "2021-09-13T16:50:37.191218Z"
    },
    "id": "2sjHi2-lmeGO"
   },
   "outputs": [],
   "source": [
    "# Add arguments common to train.py and test.py \n",
    "\n",
    "# Name to identify training or test run\n",
    "name =' first run'\n",
    "\n",
    "# Maximum length of a predicted answer \n",
    "max_ans_len = 15  # given info somewhere? \n",
    "\n",
    "# Number of sub-processes to use per data loader \n",
    "num_workers = 4 \n",
    "\n",
    "# Base directory for saving information\n",
    "save_dir= './save/' \n",
    "\n",
    "batch_size = 64 \n",
    "\n",
    "# Whether to use SQuAD 2.0 (unanswerable) questions\n",
    "use_squad_v2 = True \n",
    "\n",
    "# Number of features in encoder hidden layers \n",
    "hidden_size = 100 \n",
    "\n",
    "# Number of examples to visualize in TensorBoard - DONT NEED \n",
    "num_visuals = 10 \n",
    "\n",
    "# Path to load as a model checkpoint \n",
    "load_path = None \n",
    "\n",
    "\n",
    "\n",
    "\n",
    "\n"
   ]
  },
  {
   "cell_type": "markdown",
   "metadata": {
    "id": "juIr9WYe40Li"
   },
   "source": [
    "# Util "
   ]
  },
  {
   "cell_type": "code",
   "execution_count": 57,
   "metadata": {
    "execution": {
     "iopub.execute_input": "2021-09-13T16:50:46.818189Z",
     "iopub.status.busy": "2021-09-13T16:50:46.817573Z",
     "iopub.status.idle": "2021-09-13T16:50:46.827728Z",
     "shell.execute_reply": "2021-09-13T16:50:46.826865Z",
     "shell.execute_reply.started": "2021-09-13T16:50:46.818169Z"
    },
    "id": "-m6NtB8d1E21"
   },
   "outputs": [],
   "source": [
    "\"\"\"Utility classes and methods.\n",
    "Author:\n",
    "    Chris Chute (chute@stanford.edu)\n",
    "\"\"\"\n",
    "#import logging\n",
    "import os\n",
    "import queue\n",
    "import re\n",
    "import shutil\n",
    "import string\n",
    "import torch\n",
    "import torch.nn.functional as F\n",
    "import torch.utils.data as data\n",
    "import tqdm\n",
    "import numpy as np\n",
    "import ujson as json\n",
    "\n",
    "from collections import Counter\n",
    "\n",
    "\n",
    "class SQuAD(data.Dataset):\n",
    "    \"\"\"Stanford Question Answering Dataset (SQuAD).\n",
    "    Each item in the dataset is a tuple with the following entries (in order):\n",
    "        - context_idxs: Indices of the words in the context.\n",
    "            Shape (context_len,).\n",
    "        - context_char_idxs: Indices of the characters in the context.\n",
    "            Shape (context_len, max_word_len).\n",
    "        - question_idxs: Indices of the words in the question.\n",
    "            Shape (question_len,).\n",
    "        - question_char_idxs: Indices of the characters in the question.\n",
    "            Shape (question_len, max_word_len).\n",
    "        - y1: Index of word in the context where the answer begins.\n",
    "            -1 if no answer.\n",
    "        - y2: Index of word in the context where the answer ends.\n",
    "            -1 if no answer.\n",
    "        - id: ID of the example.\n",
    "    Args:\n",
    "        data_path (str): Path to .npz file containing pre-processed dataset.\n",
    "        use_v2 (bool): Whether to use SQuAD 2.0 questions. Otherwise only use SQuAD 1.1.\n",
    "    \"\"\"\n",
    "    def __init__(self, data_path, use_v2=True):\n",
    "        super(SQuAD, self).__init__()\n",
    "\n",
    "        dataset = np.load(data_path)\n",
    "        self.context_idxs = torch.from_numpy(dataset['context_idxs']).long()\n",
    "        self.context_char_idxs = torch.from_numpy(dataset['context_char_idxs']).long()\n",
    "        self.question_idxs = torch.from_numpy(dataset['ques_idxs']).long()\n",
    "        self.question_char_idxs = torch.from_numpy(dataset['ques_char_idxs']).long()\n",
    "        self.y1s = torch.from_numpy(dataset['y1s']).long()\n",
    "        self.y2s = torch.from_numpy(dataset['y2s']).long()\n",
    "\n",
    "        if use_v2:\n",
    "            # SQuAD 2.0: Use index 0 for no-answer token (token 1 = OOV)\n",
    "            batch_size, c_len, w_len = self.context_char_idxs.size()\n",
    "            ones = torch.ones((batch_size, 1), dtype=torch.int64)\n",
    "            self.context_idxs = torch.cat((ones, self.context_idxs), dim=1)\n",
    "            self.question_idxs = torch.cat((ones, self.question_idxs), dim=1)\n",
    "\n",
    "            ones = torch.ones((batch_size, 1, w_len), dtype=torch.int64)\n",
    "            self.context_char_idxs = torch.cat((ones, self.context_char_idxs), dim=1)\n",
    "            self.question_char_idxs = torch.cat((ones, self.question_char_idxs), dim=1)\n",
    "\n",
    "            self.y1s += 1\n",
    "            self.y2s += 1\n",
    "\n",
    "        # SQuAD 1.1: Ignore no-answer examples\n",
    "        self.ids = torch.from_numpy(dataset['ids']).long()\n",
    "        self.valid_idxs = [idx for idx in range(len(self.ids))\n",
    "                           if use_v2 or self.y1s[idx].item() >= 0]\n",
    "\n",
    "    def __getitem__(self, idx):\n",
    "        idx = self.valid_idxs[idx]\n",
    "        example = (self.context_idxs[idx],\n",
    "                   self.context_char_idxs[idx],\n",
    "                   self.question_idxs[idx],\n",
    "                   self.question_char_idxs[idx],\n",
    "                   self.y1s[idx],\n",
    "                   self.y2s[idx],\n",
    "                   self.ids[idx])\n",
    "\n",
    "        return example\n",
    "\n",
    "    def __len__(self):\n",
    "        return len(self.valid_idxs)"
   ]
  },
  {
   "cell_type": "code",
   "execution_count": 58,
   "metadata": {
    "execution": {
     "iopub.execute_input": "2021-09-13T16:50:48.454181Z",
     "iopub.status.busy": "2021-09-13T16:50:48.453952Z",
     "iopub.status.idle": "2021-09-13T16:50:48.461730Z",
     "shell.execute_reply": "2021-09-13T16:50:48.461089Z",
     "shell.execute_reply.started": "2021-09-13T16:50:48.454162Z"
    },
    "id": "I9L338hi5Ab7"
   },
   "outputs": [],
   "source": [
    "def collate_fn(examples):\n",
    "    \"\"\"Create batch tensors from a list of individual examples returned\n",
    "    by `SQuAD.__getitem__`. Merge examples of different length by padding\n",
    "    all examples to the maximum length in the batch.\n",
    "    Args:\n",
    "        examples (list): List of tuples of the form (context_idxs, context_char_idxs,\n",
    "        question_idxs, question_char_idxs, y1s, y2s, ids).\n",
    "    Returns:\n",
    "        examples (tuple): Tuple of tensors (context_idxs, context_char_idxs, question_idxs,\n",
    "        question_char_idxs, y1s, y2s, ids). All of shape (batch_size, ...), where\n",
    "        the remaining dimensions are the maximum length of examples in the input.\n",
    "    Adapted from:\n",
    "        https://github.com/yunjey/seq2seq-dataloader\n",
    "    \"\"\"\n",
    "    def merge_0d(scalars, dtype=torch.int64):\n",
    "        return torch.tensor(scalars, dtype=dtype)\n",
    "\n",
    "    def merge_1d(arrays, dtype=torch.int64, pad_value=0):\n",
    "        lengths = [(a != pad_value).sum() for a in arrays]\n",
    "        padded = torch.zeros(len(arrays), max(lengths), dtype=dtype)\n",
    "        for i, seq in enumerate(arrays):\n",
    "            end = lengths[i]\n",
    "            padded[i, :end] = seq[:end]\n",
    "        return padded\n",
    "\n",
    "    def merge_2d(matrices, dtype=torch.int64, pad_value=0):\n",
    "        heights = [(m.sum(1) != pad_value).sum() for m in matrices]\n",
    "        widths = [(m.sum(0) != pad_value).sum() for m in matrices]\n",
    "        padded = torch.zeros(len(matrices), max(heights), max(widths), dtype=dtype)\n",
    "        for i, seq in enumerate(matrices):\n",
    "            height, width = heights[i], widths[i]\n",
    "            padded[i, :height, :width] = seq[:height, :width]\n",
    "        return padded\n",
    "\n",
    "    # Group by tensor type\n",
    "    context_idxs, context_char_idxs, \\\n",
    "        question_idxs, question_char_idxs, \\\n",
    "        y1s, y2s, ids = zip(*examples)\n",
    "\n",
    "    # Merge into batch tensors\n",
    "    context_idxs = merge_1d(context_idxs)\n",
    "    context_char_idxs = merge_2d(context_char_idxs)\n",
    "    question_idxs = merge_1d(question_idxs)\n",
    "    question_char_idxs = merge_2d(question_char_idxs)\n",
    "    y1s = merge_0d(y1s)\n",
    "    y2s = merge_0d(y2s)\n",
    "    ids = merge_0d(ids)\n",
    "\n",
    "    return (context_idxs, context_char_idxs,\n",
    "            question_idxs, question_char_idxs,\n",
    "            y1s, y2s, ids)\n",
    "\n"
   ]
  },
  {
   "cell_type": "code",
   "execution_count": 59,
   "metadata": {
    "execution": {
     "iopub.execute_input": "2021-09-13T16:50:49.351378Z",
     "iopub.status.busy": "2021-09-13T16:50:49.350867Z",
     "iopub.status.idle": "2021-09-13T16:50:49.356589Z",
     "shell.execute_reply": "2021-09-13T16:50:49.355934Z",
     "shell.execute_reply.started": "2021-09-13T16:50:49.351343Z"
    },
    "id": "bWJwh6-f5SFL"
   },
   "outputs": [],
   "source": [
    "class AverageMeter:\n",
    "    \"\"\"Keep track of average values over time.\n",
    "    Adapted from:\n",
    "        > https://github.com/pytorch/examples/blob/master/imagenet/main.py\n",
    "    \"\"\"\n",
    "    def __init__(self):\n",
    "        self.avg = 0\n",
    "        self.sum = 0\n",
    "        self.count = 0\n",
    "\n",
    "    def reset(self):\n",
    "        \"\"\"Reset meter.\"\"\"\n",
    "        self.__init__()\n",
    "\n",
    "    def update(self, val, num_samples=1):\n",
    "        \"\"\"Update meter with new value `val`, the average of `num` samples.\n",
    "        Args:\n",
    "            val (float): Average value to update the meter with.\n",
    "            num_samples (int): Number of samples that were averaged to\n",
    "                produce `val`.\n",
    "        \"\"\"\n",
    "        self.count += num_samples\n",
    "        self.sum += val * num_samples\n",
    "        self.avg = self.sum / self.count\n",
    "\n"
   ]
  },
  {
   "cell_type": "code",
   "execution_count": 60,
   "metadata": {
    "execution": {
     "iopub.execute_input": "2021-09-13T16:50:50.039098Z",
     "iopub.status.busy": "2021-09-13T16:50:50.038550Z",
     "iopub.status.idle": "2021-09-13T16:50:50.045287Z",
     "shell.execute_reply": "2021-09-13T16:50:50.044502Z",
     "shell.execute_reply.started": "2021-09-13T16:50:50.039079Z"
    },
    "id": "3O-6qcr15Xpj"
   },
   "outputs": [],
   "source": [
    "class EMA:\n",
    "    \"\"\"Exponential moving average of model parameters.\n",
    "    Args:\n",
    "        model (torch.nn.Module): Model with parameters whose EMA will be kept.\n",
    "        decay (float): Decay rate for exponential moving average.\n",
    "    \"\"\"\n",
    "    def __init__(self, model, decay):\n",
    "        self.decay = decay\n",
    "        self.shadow = {}\n",
    "        self.original = {}\n",
    "\n",
    "        # Register model parameters\n",
    "        for name, param in model.named_parameters():\n",
    "            if param.requires_grad:\n",
    "                self.shadow[name] = param.data.clone()\n",
    "\n",
    "    def __call__(self, model, num_updates):\n",
    "        decay = min(self.decay, (1.0 + num_updates) / (10.0 + num_updates))\n",
    "        for name, param in model.named_parameters():\n",
    "            if param.requires_grad:\n",
    "                assert name in self.shadow\n",
    "                new_average = \\\n",
    "                    (1.0 - decay) * param.data + decay * self.shadow[name]\n",
    "                self.shadow[name] = new_average.clone()\n",
    "\n",
    "    def assign(self, model):\n",
    "        \"\"\"Assign exponential moving average of parameter values to the\n",
    "        respective parameters.\n",
    "        Args:\n",
    "            model (torch.nn.Module): Model to assign parameter values.\n",
    "        \"\"\"\n",
    "        for name, param in model.named_parameters():\n",
    "            if param.requires_grad:\n",
    "                assert name in self.shadow\n",
    "                self.original[name] = param.data.clone()\n",
    "                param.data = self.shadow[name]\n",
    "\n",
    "    def resume(self, model):\n",
    "        \"\"\"Restore original parameters to a model. That is, put back\n",
    "        the values that were in each parameter at the last call to `assign`.\n",
    "        Args:\n",
    "            model (torch.nn.Module): Model to assign parameter values.\n",
    "        \"\"\"\n",
    "        for name, param in model.named_parameters():\n",
    "            if param.requires_grad:\n",
    "                assert name in self.shadow\n",
    "                param.data = self.original[name]\n"
   ]
  },
  {
   "cell_type": "code",
   "execution_count": 61,
   "metadata": {
    "execution": {
     "iopub.execute_input": "2021-09-13T16:50:50.622484Z",
     "iopub.status.busy": "2021-09-13T16:50:50.621824Z",
     "iopub.status.idle": "2021-09-13T16:50:50.631075Z",
     "shell.execute_reply": "2021-09-13T16:50:50.630226Z",
     "shell.execute_reply.started": "2021-09-13T16:50:50.622465Z"
    },
    "id": "OxoNGOvf6l0c"
   },
   "outputs": [],
   "source": [
    "class CheckpointSaver:\n",
    "    \"\"\"Class to save and load model checkpoints.\n",
    "    Save the best checkpoints as measured by a metric value passed into the\n",
    "    `save` method. Overwrite checkpoints with better checkpoints once\n",
    "    `max_checkpoints` have been saved.\n",
    "    Args:\n",
    "        save_dir (str): Directory to save checkpoints.\n",
    "        max_checkpoints (int): Maximum number of checkpoints to keep before\n",
    "            overwriting old ones.\n",
    "        metric_name (str): Name of metric used to determine best model.\n",
    "        maximize_metric (bool): If true, best checkpoint is that which maximizes\n",
    "            the metric value passed in via `save`. Otherwise, best checkpoint\n",
    "            minimizes the metric.\n",
    "        log (logging.Logger): Optional logger for printing information.\n",
    "    \"\"\"\n",
    "    def __init__(self, save_dir, max_checkpoints, metric_name,\n",
    "                 maximize_metric=False, log=None):\n",
    "        super(CheckpointSaver, self).__init__()\n",
    "\n",
    "        self.save_dir = save_dir\n",
    "        self.max_checkpoints = max_checkpoints\n",
    "        self.metric_name = metric_name\n",
    "        self.maximize_metric = maximize_metric\n",
    "        self.best_val = None\n",
    "        self.ckpt_paths = queue.PriorityQueue()\n",
    "        self.log = log\n",
    "        self._print(f\"Saver will {'max' if maximize_metric else 'min'}imize {metric_name}...\")\n",
    "\n",
    "    def is_best(self, metric_val):\n",
    "        \"\"\"Check whether `metric_val` is the best seen so far.\n",
    "        Args:\n",
    "            metric_val (float): Metric value to compare to prior checkpoints.\n",
    "        \"\"\"\n",
    "        if metric_val is None:\n",
    "            # No metric reported\n",
    "            return False\n",
    "\n",
    "        if self.best_val is None:\n",
    "            # No checkpoint saved yet\n",
    "            return True\n",
    "\n",
    "        return ((self.maximize_metric and self.best_val < metric_val)\n",
    "                or (not self.maximize_metric and self.best_val > metric_val))\n",
    "\n",
    "    def _print(self, message):\n",
    "        \"\"\"Print a message if logging is enabled.\"\"\"\n",
    "        if self.log is not None:\n",
    "            self.log.info(message)\n",
    "\n",
    "    def save(self, step, model, metric_val, device):\n",
    "        \"\"\"Save model parameters to disk.\n",
    "        Args:\n",
    "            step (int): Total number of examples seen during training so far.\n",
    "            model (torch.nn.DataParallel): Model to save.\n",
    "            metric_val (float): Determines whether checkpoint is best so far.\n",
    "            device (torch.device): Device where model resides.\n",
    "        \"\"\"\n",
    "        ckpt_dict = {\n",
    "            'model_name': model.__class__.__name__,\n",
    "            'model_state': model.cpu().state_dict(),\n",
    "            'step': step\n",
    "        }\n",
    "        model.to(device)\n",
    "\n",
    "        checkpoint_path = os.path.join(self.save_dir,\n",
    "                                       f'step_{step}.pth.tar')\n",
    "        torch.save(ckpt_dict, checkpoint_path)\n",
    "        self._print(f'Saved checkpoint: {checkpoint_path}')\n",
    "\n",
    "        if self.is_best(metric_val):\n",
    "            # Save the best model\n",
    "            self.best_val = metric_val\n",
    "            best_path = os.path.join(self.save_dir, 'best.pth.tar')\n",
    "            shutil.copy(checkpoint_path, best_path)\n",
    "            self._print(f'New best checkpoint at step {step}...')\n",
    "\n",
    "        # Add checkpoint path to priority queue (lowest priority removed first)\n",
    "        if self.maximize_metric:\n",
    "            priority_order = metric_val\n",
    "        else:\n",
    "            priority_order = -metric_val\n",
    "\n",
    "        self.ckpt_paths.put((priority_order, checkpoint_path))\n",
    "\n",
    "        # Remove a checkpoint if more than max_checkpoints have been saved\n",
    "        if self.ckpt_paths.qsize() > self.max_checkpoints:\n",
    "            _, worst_ckpt = self.ckpt_paths.get()\n",
    "            try:\n",
    "                os.remove(worst_ckpt)\n",
    "                self._print(f'Removed checkpoint: {worst_ckpt}')\n",
    "            except OSError:\n",
    "                # Avoid crashing if checkpoint has been removed or protected\n",
    "                pass\n",
    "\n"
   ]
  },
  {
   "cell_type": "code",
   "execution_count": 62,
   "metadata": {
    "execution": {
     "iopub.execute_input": "2021-09-13T16:50:51.382841Z",
     "iopub.status.busy": "2021-09-13T16:50:51.382394Z",
     "iopub.status.idle": "2021-09-13T16:50:51.387189Z",
     "shell.execute_reply": "2021-09-13T16:50:51.386215Z",
     "shell.execute_reply.started": "2021-09-13T16:50:51.382824Z"
    },
    "id": "TrTD3xY95zqd"
   },
   "outputs": [],
   "source": [
    "def load_model(model, checkpoint_path, gpu_ids, return_step=True):\n",
    "    \"\"\"Load model parameters from disk.\n",
    "    Args:\n",
    "        model (torch.nn.DataParallel): Load parameters into this model.\n",
    "        checkpoint_path (str): Path to checkpoint to load.\n",
    "        gpu_ids (list): GPU IDs for DataParallel.\n",
    "        return_step (bool): Also return the step at which checkpoint was saved.\n",
    "    Returns:\n",
    "        model (torch.nn.DataParallel): Model loaded from checkpoint.\n",
    "        step (int): Step at which checkpoint was saved. Only if `return_step`.\n",
    "    \"\"\"\n",
    "    device = f\"cuda:{gpu_ids[0]}\" if gpu_ids else 'cpu'\n",
    "    ckpt_dict = torch.load(checkpoint_path, map_location=device)\n",
    "\n",
    "    # Build model, load parameters\n",
    "    model.load_state_dict(ckpt_dict['model_state'])\n",
    "\n",
    "    if return_step:\n",
    "        step = ckpt_dict['step']\n",
    "        return model, step\n",
    "\n",
    "    return model\n"
   ]
  },
  {
   "cell_type": "code",
   "execution_count": 63,
   "metadata": {
    "execution": {
     "iopub.execute_input": "2021-09-13T16:50:52.119662Z",
     "iopub.status.busy": "2021-09-13T16:50:52.119280Z",
     "iopub.status.idle": "2021-09-13T16:50:52.123941Z",
     "shell.execute_reply": "2021-09-13T16:50:52.123122Z",
     "shell.execute_reply.started": "2021-09-13T16:50:52.119643Z"
    },
    "id": "6Jljhuor6vek"
   },
   "outputs": [],
   "source": [
    "def get_available_devices():\n",
    "    \"\"\"Get IDs of all available GPUs.\n",
    "    Returns:\n",
    "        device (torch.device): Main device (GPU 0 or CPU).\n",
    "        gpu_ids (list): List of IDs of all GPUs that are available.\n",
    "    \"\"\"\n",
    "    gpu_ids = []\n",
    "    if torch.cuda.is_available():\n",
    "        gpu_ids += [gpu_id for gpu_id in range(torch.cuda.device_count())]\n",
    "        device = torch.device(f'cuda:{gpu_ids[0]}')\n",
    "        torch.cuda.set_device(device)\n",
    "    else:\n",
    "        device = torch.device('cpu')\n",
    "\n",
    "    return device, gpu_ids"
   ]
  },
  {
   "cell_type": "code",
   "execution_count": 64,
   "metadata": {
    "execution": {
     "iopub.execute_input": "2021-09-13T16:50:52.894185Z",
     "iopub.status.busy": "2021-09-13T16:50:52.893941Z",
     "iopub.status.idle": "2021-09-13T16:50:52.898473Z",
     "shell.execute_reply": "2021-09-13T16:50:52.897730Z",
     "shell.execute_reply.started": "2021-09-13T16:50:52.894167Z"
    },
    "id": "Egx1bI2x63Ls"
   },
   "outputs": [],
   "source": [
    "def masked_softmax(logits, mask, dim=-1, log_softmax=False):\n",
    "    \"\"\"Take the softmax of `logits` over given dimension, and set\n",
    "    entries to 0 wherever `mask` is 0.\n",
    "    Args:\n",
    "        logits (torch.Tensor): Inputs to the softmax function.\n",
    "        mask (torch.Tensor): Same shape as `logits`, with 0 indicating\n",
    "            positions that should be assigned 0 probability in the output.\n",
    "        dim (int): Dimension over which to take softmax.\n",
    "        log_softmax (bool): Take log-softmax rather than regular softmax.\n",
    "            E.g., some PyTorch functions such as `F.nll_loss` expect log-softmax.\n",
    "    Returns:\n",
    "        probs (torch.Tensor): Result of taking masked softmax over the logits.\n",
    "    \"\"\"\n",
    "    mask = mask.type(torch.float32)\n",
    "    masked_logits = mask * logits + (1 - mask) * -1e30\n",
    "    softmax_fn = F.log_softmax if log_softmax else F.softmax\n",
    "    probs = softmax_fn(masked_logits, dim)\n",
    "\n",
    "    return probs"
   ]
  },
  {
   "cell_type": "code",
   "execution_count": 65,
   "metadata": {
    "execution": {
     "iopub.execute_input": "2021-09-13T16:50:53.552782Z",
     "iopub.status.busy": "2021-09-13T16:50:53.552129Z",
     "iopub.status.idle": "2021-09-13T16:50:53.558168Z",
     "shell.execute_reply": "2021-09-13T16:50:53.557464Z",
     "shell.execute_reply.started": "2021-09-13T16:50:53.552745Z"
    },
    "id": "BMzw2Wo57MPj"
   },
   "outputs": [],
   "source": [
    "# DONT NEED THIS \n",
    "def visualize(tbx, pred_dict, eval_path, step, split, num_visuals):\n",
    "    \"\"\"Visualize text examples to TensorBoard.\n",
    "    Args:\n",
    "        tbx (tensorboardX.SummaryWriter): Summary writer.\n",
    "        pred_dict (dict): dict of predictions of the form id -> pred.\n",
    "        eval_path (str): Path to eval JSON file.\n",
    "        step (int): Number of examples seen so far during training.\n",
    "        split (str): Name of data split being visualized.\n",
    "        num_visuals (int): Number of visuals to select at random from preds.\n",
    "    \"\"\"\n",
    "    if num_visuals <= 0:\n",
    "        return\n",
    "    if num_visuals > len(pred_dict):\n",
    "        num_visuals = len(pred_dict)\n",
    "\n",
    "    visual_ids = np.random.choice(list(pred_dict), size=num_visuals, replace=False)\n",
    "\n",
    "    with open(eval_path, 'r') as eval_file:\n",
    "        eval_dict = json.load(eval_file)\n",
    "    for i, id_ in enumerate(visual_ids):\n",
    "        pred = pred_dict[id_] or 'N/A'\n",
    "        example = eval_dict[str(id_)]\n",
    "        question = example['question']\n",
    "        context = example['context']\n",
    "        answers = example['answers']\n",
    "\n",
    "        gold = answers[0] if answers else 'N/A'\n",
    "        tbl_fmt = (f'- **Question:** {question}\\n'\n",
    "                   + f'- **Context:** {context}\\n'\n",
    "                   + f'- **Answer:** {gold}\\n'\n",
    "                   + f'- **Prediction:** {pred}')\n",
    "        tbx.add_text(tag=f'{split}/{i+1}_of_{num_visuals}',\n",
    "                     text_string=tbl_fmt,\n",
    "                     global_step=step)\n"
   ]
  },
  {
   "cell_type": "code",
   "execution_count": 66,
   "metadata": {
    "execution": {
     "iopub.execute_input": "2021-09-13T16:50:54.198131Z",
     "iopub.status.busy": "2021-09-13T16:50:54.197923Z",
     "iopub.status.idle": "2021-09-13T16:50:54.203770Z",
     "shell.execute_reply": "2021-09-13T16:50:54.203097Z",
     "shell.execute_reply.started": "2021-09-13T16:50:54.198114Z"
    },
    "id": "CoM-wmz77SVb"
   },
   "outputs": [],
   "source": [
    "def save_preds(preds, save_dir, file_name='predictions.csv'):\n",
    "    \"\"\"Save predictions `preds` to a CSV file named `file_name` in `save_dir`.\n",
    "    Args:\n",
    "        preds (list): List of predictions each of the form (id, start, end),\n",
    "            where id is an example ID, and start/end are indices in the context.\n",
    "        save_dir (str): Directory in which to save the predictions file.\n",
    "        file_name (str): File name for the CSV file.\n",
    "    Returns:\n",
    "        save_path (str): Path where CSV file was saved.\n",
    "    \"\"\"\n",
    "    # Validate format\n",
    "    if (not isinstance(preds, list)\n",
    "            or any(not isinstance(p, tuple) or len(p) != 3 for p in preds)):\n",
    "        raise ValueError('preds must be a list of tuples (id, start, end)')\n",
    "\n",
    "    # Make sure predictions are sorted by ID\n",
    "    preds = sorted(preds, key=lambda p: p[0])\n",
    "\n",
    "    # Save to a CSV file\n",
    "    save_path = os.path.join(save_dir, file_name)\n",
    "    np.savetxt(save_path, np.array(preds), delimiter=',', fmt='%d')\n",
    "\n",
    "    return save_path"
   ]
  },
  {
   "cell_type": "code",
   "execution_count": 67,
   "metadata": {
    "execution": {
     "iopub.execute_input": "2021-09-13T16:50:55.094570Z",
     "iopub.status.busy": "2021-09-13T16:50:55.094076Z",
     "iopub.status.idle": "2021-09-13T16:50:55.099484Z",
     "shell.execute_reply": "2021-09-13T16:50:55.098600Z",
     "shell.execute_reply.started": "2021-09-13T16:50:55.094532Z"
    },
    "id": "jNwFuATk7a70"
   },
   "outputs": [],
   "source": [
    "# DONT THINK WE NEED THIS \n",
    "def get_save_dir(base_dir, name, training, id_max=100):\n",
    "    \"\"\"Get a unique save directory by appending the smallest positive integer\n",
    "    `id < id_max` that is not already taken (i.e., no dir exists with that id).\n",
    "    Args:\n",
    "        base_dir (str): Base directory in which to make save directories.\n",
    "        name (str): Name to identify this training run. Need not be unique.\n",
    "        training (bool): Save dir. is for training (determines subdirectory).\n",
    "        id_max (int): Maximum ID number before raising an exception.\n",
    "    Returns:\n",
    "        save_dir (str): Path to a new directory with a unique name.\n",
    "    \"\"\"\n",
    "    for uid in range(1, id_max):\n",
    "        subdir = 'train' if training else 'test'\n",
    "        save_dir = os.path.join(base_dir, subdir, f'{name}-{uid:02d}')\n",
    "        if not os.path.exists(save_dir):\n",
    "            os.makedirs(save_dir)\n",
    "            return save_dir\n",
    "\n",
    "    raise RuntimeError('Too many save directories created with the same name. \\\n",
    "                       Delete old save directories or use another name.')\n"
   ]
  },
  {
   "cell_type": "code",
   "execution_count": 68,
   "metadata": {
    "execution": {
     "iopub.execute_input": "2021-09-13T16:50:56.285850Z",
     "iopub.status.busy": "2021-09-13T16:50:56.285414Z",
     "iopub.status.idle": "2021-09-13T16:50:56.291718Z",
     "shell.execute_reply": "2021-09-13T16:50:56.291135Z",
     "shell.execute_reply.started": "2021-09-13T16:50:56.285832Z"
    },
    "id": "AVs2PPjQ7sDE"
   },
   "outputs": [],
   "source": [
    "# DONT THINK WE NEED THIS \n",
    "\n",
    "def get_logger(log_dir, name):\n",
    "    \"\"\"Get a `logging.Logger` instance that prints to the console\n",
    "    and an auxiliary file.\n",
    "    Args:\n",
    "        log_dir (str): Directory in which to create the log file.\n",
    "        name (str): Name to identify the logs.\n",
    "    Returns:\n",
    "        logger (logging.Logger): Logger instance for logging events.\n",
    "    \"\"\"\n",
    "    class StreamHandlerWithTQDM(logging.Handler):\n",
    "        \"\"\"Let `logging` print without breaking `tqdm` progress bars.\n",
    "        See Also:\n",
    "            > https://stackoverflow.com/questions/38543506\n",
    "        \"\"\"\n",
    "        def emit(self, record):\n",
    "            try:\n",
    "                msg = self.format(record)\n",
    "                tqdm.tqdm.write(msg)\n",
    "                self.flush()\n",
    "            except (KeyboardInterrupt, SystemExit):\n",
    "                raise\n",
    "            except:\n",
    "                self.handleError(record)\n",
    "\n",
    "    # Create logger\n",
    "    logger = logging.getLogger(name)\n",
    "    logger.setLevel(logging.DEBUG)\n",
    "\n",
    "    # Log everything (i.e., DEBUG level and above) to a file\n",
    "    log_path = os.path.join(log_dir, 'log.txt')\n",
    "    file_handler = logging.FileHandler(log_path)\n",
    "    file_handler.setLevel(logging.DEBUG)\n",
    "\n",
    "    # Log everything except DEBUG level (i.e., INFO level and above) to console\n",
    "    console_handler = StreamHandlerWithTQDM()\n",
    "    console_handler.setLevel(logging.INFO)\n",
    "\n",
    "    # Create format for the logs\n",
    "    file_formatter = logging.Formatter('[%(asctime)s] %(message)s',\n",
    "                                       datefmt='%m.%d.%y %H:%M:%S')\n",
    "    file_handler.setFormatter(file_formatter)\n",
    "    console_formatter = logging.Formatter('[%(asctime)s] %(message)s',\n",
    "                                          datefmt='%m.%d.%y %H:%M:%S')\n",
    "    console_handler.setFormatter(console_formatter)\n",
    "\n",
    "    # add the handlers to the logger\n",
    "    logger.addHandler(file_handler)\n",
    "    logger.addHandler(console_handler)\n",
    "\n",
    "    return logger"
   ]
  },
  {
   "cell_type": "code",
   "execution_count": 69,
   "metadata": {
    "execution": {
     "iopub.execute_input": "2021-09-13T16:50:57.081660Z",
     "iopub.status.busy": "2021-09-13T16:50:57.080987Z",
     "iopub.status.idle": "2021-09-13T16:50:57.085246Z",
     "shell.execute_reply": "2021-09-13T16:50:57.084453Z",
     "shell.execute_reply.started": "2021-09-13T16:50:57.081641Z"
    },
    "id": "j_kNwcpU70Au"
   },
   "outputs": [],
   "source": [
    "def torch_from_json(path, dtype=torch.float32):\n",
    "    \"\"\"Load a PyTorch Tensor from a JSON file.\n",
    "    Args:\n",
    "        path (str): Path to the JSON file to load.\n",
    "        dtype (torch.dtype): Data type of loaded array.\n",
    "    Returns:\n",
    "        tensor (torch.Tensor): Tensor loaded from JSON file.\n",
    "    \"\"\"\n",
    "    with open(path, 'r') as fh:\n",
    "        array = np.array(json.load(fh))\n",
    "\n",
    "    tensor = torch.from_numpy(array).type(dtype)\n",
    "\n",
    "    return tensor"
   ]
  },
  {
   "cell_type": "code",
   "execution_count": 70,
   "metadata": {
    "execution": {
     "iopub.execute_input": "2021-09-13T16:50:59.322030Z",
     "iopub.status.busy": "2021-09-13T16:50:59.321447Z",
     "iopub.status.idle": "2021-09-13T16:50:59.329168Z",
     "shell.execute_reply": "2021-09-13T16:50:59.328454Z",
     "shell.execute_reply.started": "2021-09-13T16:50:59.322008Z"
    },
    "id": "0kTPzyUw7-vO"
   },
   "outputs": [],
   "source": [
    "def discretize(p_start, p_end, max_len=15, no_answer=False):\n",
    "    \"\"\"Discretize soft predictions to get start and end indices.\n",
    "    Choose the pair `(i, j)` of indices that maximizes `p1[i] * p2[j]`\n",
    "    subject to `i <= j` and `j - i + 1 <= max_len`.\n",
    "    Args:\n",
    "        p_start (torch.Tensor): Soft predictions for start index.\n",
    "            Shape (batch_size, context_len).\n",
    "        p_end (torch.Tensor): Soft predictions for end index.\n",
    "            Shape (batch_size, context_len).\n",
    "        max_len (int): Maximum length of the discretized prediction.\n",
    "            I.e., enforce that `preds[i, 1] - preds[i, 0] + 1 <= max_len`.\n",
    "        no_answer (bool): Treat 0-index as the no-answer prediction. Consider\n",
    "            a prediction no-answer if `preds[0, 0] * preds[0, 1]` is greater\n",
    "            than the probability assigned to the max-probability span.\n",
    "    Returns:\n",
    "        start_idxs (torch.Tensor): Hard predictions for start index.\n",
    "            Shape (batch_size,)\n",
    "        end_idxs (torch.Tensor): Hard predictions for end index.\n",
    "            Shape (batch_size,)\n",
    "    \"\"\"\n",
    "    if p_start.min() < 0 or p_start.max() > 1 \\\n",
    "            or p_end.min() < 0 or p_end.max() > 1:\n",
    "        raise ValueError('Expected p_start and p_end to have values in [0, 1]')\n",
    "\n",
    "    # Compute pairwise probabilities\n",
    "    p_start = p_start.unsqueeze(dim=2)\n",
    "    p_end = p_end.unsqueeze(dim=1)\n",
    "    p_joint = torch.matmul(p_start, p_end)  # (batch_size, c_len, c_len)\n",
    "\n",
    "    # Restrict to pairs (i, j) such that i <= j <= i + max_len - 1\n",
    "    c_len, device = p_start.size(1), p_start.device\n",
    "    is_legal_pair = torch.triu(torch.ones((c_len, c_len), device=device))\n",
    "    is_legal_pair -= torch.triu(torch.ones((c_len, c_len), device=device),\n",
    "                                diagonal=max_len)\n",
    "    if no_answer:\n",
    "        # Index 0 is no-answer\n",
    "        p_no_answer = p_joint[:, 0, 0].clone()\n",
    "        is_legal_pair[0, :] = 0\n",
    "        is_legal_pair[:, 0] = 0\n",
    "    else:\n",
    "        p_no_answer = None\n",
    "    p_joint *= is_legal_pair\n",
    "\n",
    "    # Take pair (i, j) that maximizes p_joint\n",
    "    max_in_row, _ = torch.max(p_joint, dim=2)\n",
    "    max_in_col, _ = torch.max(p_joint, dim=1)\n",
    "    start_idxs = torch.argmax(max_in_row, dim=-1)\n",
    "    end_idxs = torch.argmax(max_in_col, dim=-1)\n",
    "\n",
    "    if no_answer:\n",
    "        # Predict no-answer whenever p_no_answer > max_prob\n",
    "        max_prob, _ = torch.max(max_in_col, dim=-1)\n",
    "        start_idxs[p_no_answer > max_prob] = 0\n",
    "        end_idxs[p_no_answer > max_prob] = 0\n",
    "\n",
    "    return start_idxs, end_idxs"
   ]
  },
  {
   "cell_type": "code",
   "execution_count": 71,
   "metadata": {
    "execution": {
     "iopub.execute_input": "2021-09-13T16:50:59.945919Z",
     "iopub.status.busy": "2021-09-13T16:50:59.945422Z",
     "iopub.status.idle": "2021-09-13T16:50:59.951888Z",
     "shell.execute_reply": "2021-09-13T16:50:59.951324Z",
     "shell.execute_reply.started": "2021-09-13T16:50:59.945899Z"
    },
    "id": "_RDb5LVs8X2V"
   },
   "outputs": [],
   "source": [
    "def convert_tokens(eval_dict, qa_id, y_start_list, y_end_list, no_answer):\n",
    "    \"\"\"Convert predictions to tokens from the context.\n",
    "    Args:\n",
    "        eval_dict (dict): Dictionary with eval info for the dataset. This is\n",
    "            used to perform the mapping from IDs and indices to actual text.\n",
    "        qa_id (int): List of QA example IDs.\n",
    "        y_start_list (list): List of start predictions.\n",
    "        y_end_list (list): List of end predictions.\n",
    "        no_answer (bool): Questions can have no answer. E.g., SQuAD 2.0.\n",
    "    Returns:\n",
    "        pred_dict (dict): Dictionary index IDs -> predicted answer text.\n",
    "        sub_dict (dict): Dictionary UUIDs -> predicted answer text (submission).\n",
    "    \"\"\"\n",
    "    pred_dict = {}\n",
    "    sub_dict = {}\n",
    "    for qid, y_start, y_end in zip(qa_id, y_start_list, y_end_list):\n",
    "        context = eval_dict[str(qid)][\"context\"]\n",
    "        spans = eval_dict[str(qid)][\"spans\"]\n",
    "        uuid = eval_dict[str(qid)][\"uuid\"]\n",
    "        if no_answer and (y_start == 0 or y_end == 0):\n",
    "            pred_dict[str(qid)] = ''\n",
    "            sub_dict[uuid] = ''\n",
    "        else:\n",
    "            if no_answer:\n",
    "                y_start, y_end = y_start - 1, y_end - 1\n",
    "            start_idx = spans[y_start][0]\n",
    "            end_idx = spans[y_end][1]\n",
    "            pred_dict[str(qid)] = context[start_idx: end_idx]\n",
    "            sub_dict[uuid] = context[start_idx: end_idx]\n",
    "    return pred_dict, sub_dict\n"
   ]
  },
  {
   "cell_type": "code",
   "execution_count": 72,
   "metadata": {
    "execution": {
     "iopub.execute_input": "2021-09-13T16:51:01.566306Z",
     "iopub.status.busy": "2021-09-13T16:51:01.565907Z",
     "iopub.status.idle": "2021-09-13T16:51:01.570343Z",
     "shell.execute_reply": "2021-09-13T16:51:01.569736Z",
     "shell.execute_reply.started": "2021-09-13T16:51:01.566286Z"
    },
    "id": "8GiWMza58f5-"
   },
   "outputs": [],
   "source": [
    "def metric_max_over_ground_truths(metric_fn, prediction, ground_truths):\n",
    "    if not ground_truths:\n",
    "        return metric_fn(prediction, '')\n",
    "    scores_for_ground_truths = []\n",
    "    for ground_truth in ground_truths:\n",
    "        score = metric_fn(prediction, ground_truth)\n",
    "        scores_for_ground_truths.append(score)\n",
    "    return max(scores_for_ground_truths)\n"
   ]
  },
  {
   "cell_type": "code",
   "execution_count": 73,
   "metadata": {
    "execution": {
     "iopub.execute_input": "2021-09-13T16:51:04.205781Z",
     "iopub.status.busy": "2021-09-13T16:51:04.205463Z",
     "iopub.status.idle": "2021-09-13T16:51:04.209627Z",
     "shell.execute_reply": "2021-09-13T16:51:04.208934Z",
     "shell.execute_reply.started": "2021-09-13T16:51:04.205764Z"
    },
    "id": "50_PEcZV8iE9"
   },
   "outputs": [],
   "source": [
    "# for evaluation\n",
    "def metric_max_over_ground_truths(metric_fn, prediction, ground_truths):\n",
    "    if not ground_truths:\n",
    "        return metric_fn(prediction, '')\n",
    "    scores_for_ground_truths = []\n",
    "    for ground_truth in ground_truths:\n",
    "        score = metric_fn(prediction, ground_truth)\n",
    "        scores_for_ground_truths.append(score)\n",
    "    return max(scores_for_ground_truths)"
   ]
  },
  {
   "cell_type": "code",
   "execution_count": 74,
   "metadata": {
    "execution": {
     "iopub.execute_input": "2021-09-13T16:51:04.789911Z",
     "iopub.status.busy": "2021-09-13T16:51:04.789455Z",
     "iopub.status.idle": "2021-09-13T16:51:04.795007Z",
     "shell.execute_reply": "2021-09-13T16:51:04.794198Z",
     "shell.execute_reply.started": "2021-09-13T16:51:04.789893Z"
    },
    "id": "uA196avN8n99"
   },
   "outputs": [],
   "source": [
    "def eval_dicts(gold_dict, pred_dict, no_answer):\n",
    "    avna = f1 = em = total = 0\n",
    "    for key, value in pred_dict.items():\n",
    "        total += 1\n",
    "        ground_truths = gold_dict[key]['answers']\n",
    "        prediction = value\n",
    "        em += metric_max_over_ground_truths(compute_em, prediction, ground_truths)\n",
    "        f1 += metric_max_over_ground_truths(compute_f1, prediction, ground_truths)\n",
    "        if no_answer:\n",
    "            avna += compute_avna(prediction, ground_truths)\n",
    "\n",
    "    eval_dict = {'EM': 100. * em / total,\n",
    "                 'F1': 100. * f1 / total}\n",
    "\n",
    "    if no_answer:\n",
    "        eval_dict['AvNA'] = 100. * avna / total\n",
    "\n",
    "    return eval_dict"
   ]
  },
  {
   "cell_type": "code",
   "execution_count": 75,
   "metadata": {
    "execution": {
     "iopub.execute_input": "2021-09-13T16:51:05.424298Z",
     "iopub.status.busy": "2021-09-13T16:51:05.423680Z",
     "iopub.status.idle": "2021-09-13T16:51:05.427646Z",
     "shell.execute_reply": "2021-09-13T16:51:05.426883Z",
     "shell.execute_reply.started": "2021-09-13T16:51:05.424276Z"
    },
    "id": "SoX39IZ08x22"
   },
   "outputs": [],
   "source": [
    "def compute_avna(prediction, ground_truths):\n",
    "    \"\"\"Compute answer vs. no-answer accuracy.\"\"\"\n",
    "    return float(bool(prediction) == bool(ground_truths))"
   ]
  },
  {
   "cell_type": "code",
   "execution_count": 76,
   "metadata": {
    "execution": {
     "iopub.execute_input": "2021-09-13T16:51:06.175214Z",
     "iopub.status.busy": "2021-09-13T16:51:06.174206Z",
     "iopub.status.idle": "2021-09-13T16:51:06.182433Z",
     "shell.execute_reply": "2021-09-13T16:51:06.181775Z",
     "shell.execute_reply.started": "2021-09-13T16:51:06.175175Z"
    },
    "id": "3fiTNx7K81ll"
   },
   "outputs": [],
   "source": [
    "# All methods below this line are from the official SQuAD 2.0 eval script\n",
    "# https://worksheets.codalab.org/rest/bundles/0x6b567e1cf2e041ec80d7098f031c5c9e/contents/blob/\n",
    "def normalize_answer(s):\n",
    "    \"\"\"Convert to lowercase and remove punctuation, articles and extra whitespace.\"\"\"\n",
    "\n",
    "    def remove_articles(text):\n",
    "        regex = re.compile(r'\\b(a|an|the)\\b', re.UNICODE)\n",
    "        return re.sub(regex, ' ', text)\n",
    "\n",
    "    def white_space_fix(text):\n",
    "        return ' '.join(text.split())\n",
    "\n",
    "    def remove_punc(text):\n",
    "        exclude = set(string.punctuation)\n",
    "        return ''.join(ch for ch in text if ch not in exclude)\n",
    "\n",
    "    def lower(text):\n",
    "        return text.lower()\n",
    "\n",
    "    return white_space_fix(remove_articles(remove_punc(lower(s))))\n",
    "\n",
    "\n",
    "def get_tokens(s):\n",
    "    if not s:\n",
    "        return []\n",
    "    return normalize_answer(s).split()\n",
    "\n",
    "\n",
    "def compute_em(a_gold, a_pred):\n",
    "    return int(normalize_answer(a_gold) == normalize_answer(a_pred))\n",
    "\n",
    "\n",
    "def compute_f1(a_gold, a_pred):\n",
    "    gold_toks = get_tokens(a_gold)\n",
    "    pred_toks = get_tokens(a_pred)\n",
    "    common = Counter(gold_toks) & Counter(pred_toks)\n",
    "    num_same = sum(common.values())\n",
    "    if len(gold_toks) == 0 or len(pred_toks) == 0:\n",
    "        # If either is no-answer, then F1 is 1 if they agree, 0 otherwise\n",
    "        return int(gold_toks == pred_toks)\n",
    "    if num_same == 0:\n",
    "        return 0\n",
    "    precision = 1.0 * num_same / len(pred_toks)\n",
    "    recall = 1.0 * num_same / len(gold_toks)\n",
    "    f1 = (2 * precision * recall) / (precision + recall)\n",
    "    return f1"
   ]
  },
  {
   "cell_type": "code",
   "execution_count": null,
   "metadata": {
    "id": "texr4LBL810E"
   },
   "outputs": [],
   "source": []
  },
  {
   "cell_type": "code",
   "execution_count": null,
   "metadata": {
    "id": "HLTW0HnM813_"
   },
   "outputs": [],
   "source": []
  },
  {
   "cell_type": "code",
   "execution_count": null,
   "metadata": {
    "id": "CU9J_Tkl816t"
   },
   "outputs": [],
   "source": []
  },
  {
   "cell_type": "code",
   "execution_count": null,
   "metadata": {
    "id": "y108bAIF819k"
   },
   "outputs": [],
   "source": []
  },
  {
   "cell_type": "code",
   "execution_count": null,
   "metadata": {
    "id": "4wk_EL_W82AU"
   },
   "outputs": [],
   "source": []
  },
  {
   "cell_type": "markdown",
   "metadata": {
    "id": "HZi_czvu9YPK"
   },
   "source": [
    "# Layers "
   ]
  },
  {
   "cell_type": "code",
   "execution_count": 77,
   "metadata": {
    "execution": {
     "iopub.execute_input": "2021-09-13T16:51:09.222720Z",
     "iopub.status.busy": "2021-09-13T16:51:09.222280Z",
     "iopub.status.idle": "2021-09-13T16:51:09.240842Z",
     "shell.execute_reply": "2021-09-13T16:51:09.240301Z",
     "shell.execute_reply.started": "2021-09-13T16:51:09.222703Z"
    },
    "id": "HgFJOaZT2caU"
   },
   "outputs": [],
   "source": [
    "\"\"\"Assortment of layers for use in models.py.\n",
    "Author:\n",
    "    Chris Chute (chute@stanford.edu)\n",
    "\"\"\"\n",
    "\n",
    "import torch\n",
    "import torch.nn as nn\n",
    "import torch.nn.functional as F\n",
    "\n",
    "from torch.nn.utils.rnn import pack_padded_sequence, pad_packed_sequence\n",
    "# from util import masked_softmax\n",
    "\n",
    "\n",
    "class Embedding(nn.Module):\n",
    "    \"\"\"Embedding layer used by BiDAF, without the character-level component.\n",
    "    Word-level embeddings are further refined using a 2-layer Highway Encoder\n",
    "    (see `HighwayEncoder` class for details).\n",
    "    Args:\n",
    "        word_vectors (torch.Tensor): Pre-trained word vectors.\n",
    "        hidden_size (int): Size of hidden activations.\n",
    "        drop_prob (float): Probability of zero-ing out activations\n",
    "    \"\"\"\n",
    "    def __init__(self, word_vectors, hidden_size, drop_prob):\n",
    "        super(Embedding, self).__init__()\n",
    "        self.drop_prob = drop_prob\n",
    "        self.embed = nn.Embedding.from_pretrained(word_vectors)\n",
    "        self.proj = nn.Linear(word_vectors.size(1), hidden_size, bias=False)\n",
    "        self.hwy = HighwayEncoder(2, hidden_size)\n",
    "\n",
    "    def forward(self, x):\n",
    "        emb = self.embed(x)   # (batch_size, seq_len, embed_size)\n",
    "        emb = F.dropout(emb, self.drop_prob, self.training)\n",
    "        emb = self.proj(emb)  # (batch_size, seq_len, hidden_size)\n",
    "        emb = self.hwy(emb)   # (batch_size, seq_len, hidden_size)\n",
    "\n",
    "        return emb\n",
    "\n",
    "\n",
    "class HighwayEncoder(nn.Module):\n",
    "    \"\"\"Encode an input sequence using a highway network.\n",
    "    Based on the paper:\n",
    "    \"Highway Networks\"\n",
    "    by Rupesh Kumar Srivastava, Klaus Greff, Jürgen Schmidhuber\n",
    "    (https://arxiv.org/abs/1505.00387).\n",
    "    Args:\n",
    "        num_layers (int): Number of layers in the highway encoder.\n",
    "        hidden_size (int): Size of hidden activations.\n",
    "    \"\"\"\n",
    "    def __init__(self, num_layers, hidden_size):\n",
    "        super(HighwayEncoder, self).__init__()\n",
    "        self.transforms = nn.ModuleList([nn.Linear(hidden_size, hidden_size)\n",
    "                                         for _ in range(num_layers)])\n",
    "        self.gates = nn.ModuleList([nn.Linear(hidden_size, hidden_size)\n",
    "                                    for _ in range(num_layers)])\n",
    "\n",
    "    def forward(self, x):\n",
    "        for gate, transform in zip(self.gates, self.transforms):\n",
    "            # Shapes of g, t, and x are all (batch_size, seq_len, hidden_size)\n",
    "            g = torch.sigmoid(gate(x))\n",
    "            t = F.relu(transform(x))\n",
    "            x = g * t + (1 - g) * x\n",
    "\n",
    "        return x\n",
    "\n",
    "\n",
    "class RNNEncoder(nn.Module):\n",
    "    \"\"\"General-purpose layer for encoding a sequence using a bidirectional RNN.\n",
    "    Encoded output is the RNN's hidden state at each position, which\n",
    "    has shape `(batch_size, seq_len, hidden_size * 2)`.\n",
    "    Args:\n",
    "        input_size (int): Size of a single timestep in the input.\n",
    "        hidden_size (int): Size of the RNN hidden state.\n",
    "        num_layers (int): Number of layers of RNN cells to use.\n",
    "        drop_prob (float): Probability of zero-ing out activations.\n",
    "    \"\"\"\n",
    "    def __init__(self,\n",
    "                 input_size,\n",
    "                 hidden_size,\n",
    "                 num_layers,\n",
    "                 drop_prob=0.):\n",
    "        super(RNNEncoder, self).__init__()\n",
    "        self.drop_prob = drop_prob\n",
    "        self.rnn = nn.LSTM(input_size, hidden_size, num_layers,\n",
    "                           batch_first=True,\n",
    "                           bidirectional=True,\n",
    "                           dropout=drop_prob if num_layers > 1 else 0.)\n",
    "\n",
    "    def forward(self, x, lengths):\n",
    "        # Save original padded length for use by pad_packed_sequence\n",
    "        orig_len = x.size(1)\n",
    "\n",
    "        # Sort by length and pack sequence for RNN\n",
    "        lengths, sort_idx = lengths.sort(0, descending=True)\n",
    "        x = x[sort_idx]     # (batch_size, seq_len, input_size)\n",
    "        x = pack_padded_sequence(x, lengths, batch_first=True)\n",
    "\n",
    "        # Apply RNN\n",
    "        x, _ = self.rnn(x)  # (batch_size, seq_len, 2 * hidden_size)\n",
    "\n",
    "        # Unpack and reverse sort\n",
    "        x, _ = pad_packed_sequence(x, batch_first=True, total_length=orig_len)\n",
    "        _, unsort_idx = sort_idx.sort(0)\n",
    "        x = x[unsort_idx]   # (batch_size, seq_len, 2 * hidden_size)\n",
    "\n",
    "        # Apply dropout (RNN applies dropout after all but the last layer)\n",
    "        x = F.dropout(x, self.drop_prob, self.training)\n",
    "\n",
    "        return x\n",
    "\n",
    "\n",
    "class BiDAFAttention(nn.Module):\n",
    "    \"\"\"Bidirectional attention originally used by BiDAF.\n",
    "    Bidirectional attention computes attention in two directions:\n",
    "    The context attends to the query and the query attends to the context.\n",
    "    The output of this layer is the concatenation of [context, c2q_attention,\n",
    "    context * c2q_attention, context * q2c_attention]. This concatenation allows\n",
    "    the attention vector at each timestep, along with the embeddings from\n",
    "    previous layers, to flow through the attention layer to the modeling layer.\n",
    "    The output has shape (batch_size, context_len, 8 * hidden_size).\n",
    "    Args:\n",
    "        hidden_size (int): Size of hidden activations.\n",
    "        drop_prob (float): Probability of zero-ing out activations.\n",
    "    \"\"\"\n",
    "    def __init__(self, hidden_size, drop_prob=0.1):\n",
    "        super(BiDAFAttention, self).__init__()\n",
    "        self.drop_prob = drop_prob\n",
    "        self.c_weight = nn.Parameter(torch.zeros(hidden_size, 1))\n",
    "        self.q_weight = nn.Parameter(torch.zeros(hidden_size, 1))\n",
    "        self.cq_weight = nn.Parameter(torch.zeros(1, 1, hidden_size))\n",
    "        for weight in (self.c_weight, self.q_weight, self.cq_weight):\n",
    "            nn.init.xavier_uniform_(weight)\n",
    "        self.bias = nn.Parameter(torch.zeros(1))\n",
    "\n",
    "    def forward(self, c, q, c_mask, q_mask):\n",
    "        batch_size, c_len, _ = c.size()\n",
    "        q_len = q.size(1)\n",
    "        s = self.get_similarity_matrix(c, q)        # (batch_size, c_len, q_len)\n",
    "        c_mask = c_mask.view(batch_size, c_len, 1)  # (batch_size, c_len, 1)\n",
    "        q_mask = q_mask.view(batch_size, 1, q_len)  # (batch_size, 1, q_len)\n",
    "        s1 = masked_softmax(s, q_mask, dim=2)       # (batch_size, c_len, q_len)\n",
    "        s2 = masked_softmax(s, c_mask, dim=1)       # (batch_size, c_len, q_len)\n",
    "\n",
    "        # (bs, c_len, q_len) x (bs, q_len, hid_size) => (bs, c_len, hid_size)\n",
    "        a = torch.bmm(s1, q)\n",
    "        # (bs, c_len, c_len) x (bs, c_len, hid_size) => (bs, c_len, hid_size)\n",
    "        b = torch.bmm(torch.bmm(s1, s2.transpose(1, 2)), c)\n",
    "\n",
    "        x = torch.cat([c, a, c * a, c * b], dim=2)  # (bs, c_len, 4 * hid_size)\n",
    "\n",
    "        return x\n",
    "\n",
    "    def get_similarity_matrix(self, c, q):\n",
    "        \"\"\"Get the \"similarity matrix\" between context and query (using the\n",
    "        terminology of the BiDAF paper).\n",
    "        A naive implementation as described in BiDAF would concatenate the\n",
    "        three vectors then project the result with a single weight matrix. This\n",
    "        method is a more memory-efficient implementation of the same operation.\n",
    "        See Also:\n",
    "            Equation 1 in https://arxiv.org/abs/1611.01603\n",
    "        \"\"\"\n",
    "        c_len, q_len = c.size(1), q.size(1)\n",
    "        c = F.dropout(c, self.drop_prob, self.training)  # (bs, c_len, hid_size)\n",
    "        q = F.dropout(q, self.drop_prob, self.training)  # (bs, q_len, hid_size)\n",
    "\n",
    "        # Shapes: (batch_size, c_len, q_len)\n",
    "        s0 = torch.matmul(c, self.c_weight).expand([-1, -1, q_len])\n",
    "        s1 = torch.matmul(q, self.q_weight).transpose(1, 2)\\\n",
    "                                           .expand([-1, c_len, -1])\n",
    "        s2 = torch.matmul(c * self.cq_weight, q.transpose(1, 2))\n",
    "        s = s0 + s1 + s2 + self.bias\n",
    "\n",
    "        return s\n",
    "\n",
    "\n",
    "class BiDAFOutput(nn.Module):\n",
    "    \"\"\"Output layer used by BiDAF for question answering.\n",
    "    Computes a linear transformation of the attention and modeling\n",
    "    outputs, then takes the softmax of the result to get the start pointer.\n",
    "    A bidirectional LSTM is then applied the modeling output to produce `mod_2`.\n",
    "    A second linear+softmax of the attention output and `mod_2` is used\n",
    "    to get the end pointer.\n",
    "    Args:\n",
    "        hidden_size (int): Hidden size used in the BiDAF model.\n",
    "        drop_prob (float): Probability of zero-ing out activations.\n",
    "    \"\"\"\n",
    "    def __init__(self, hidden_size, drop_prob):\n",
    "        super(BiDAFOutput, self).__init__()\n",
    "        self.att_linear_1 = nn.Linear(8 * hidden_size, 1)\n",
    "        self.mod_linear_1 = nn.Linear(2 * hidden_size, 1)\n",
    "\n",
    "        self.rnn = RNNEncoder(input_size=2 * hidden_size,\n",
    "                              hidden_size=hidden_size,\n",
    "                              num_layers=1,\n",
    "                              drop_prob=drop_prob)\n",
    "\n",
    "        self.att_linear_2 = nn.Linear(8 * hidden_size, 1)\n",
    "        self.mod_linear_2 = nn.Linear(2 * hidden_size, 1)\n",
    "\n",
    "    def forward(self, att, mod, mask):\n",
    "        # Shapes: (batch_size, seq_len, 1)\n",
    "        logits_1 = self.att_linear_1(att) + self.mod_linear_1(mod)\n",
    "        mod_2 = self.rnn(mod, mask.sum(-1))\n",
    "        logits_2 = self.att_linear_2(att) + self.mod_linear_2(mod_2)\n",
    "\n",
    "        # Shapes: (batch_size, seq_len)\n",
    "        log_p1 = masked_softmax(logits_1.squeeze(), mask, log_softmax=True)\n",
    "        log_p2 = masked_softmax(logits_2.squeeze(), mask, log_softmax=True)\n",
    "\n",
    "        return log_p1, log_p2"
   ]
  },
  {
   "cell_type": "code",
   "execution_count": null,
   "metadata": {
    "id": "n4sQvdM_5t4U"
   },
   "outputs": [],
   "source": []
  },
  {
   "cell_type": "markdown",
   "metadata": {
    "id": "XlCNBPVA9b4F"
   },
   "source": [
    "# Model"
   ]
  },
  {
   "cell_type": "code",
   "execution_count": 78,
   "metadata": {
    "execution": {
     "iopub.execute_input": "2021-09-13T16:51:10.394391Z",
     "iopub.status.busy": "2021-09-13T16:51:10.393911Z",
     "iopub.status.idle": "2021-09-13T16:51:10.401886Z",
     "shell.execute_reply": "2021-09-13T16:51:10.401215Z",
     "shell.execute_reply.started": "2021-09-13T16:51:10.394358Z"
    },
    "id": "3-pu7eNF2Z8E"
   },
   "outputs": [],
   "source": [
    "\"\"\"Top-level model classes.\n",
    "Author:\n",
    "    Chris Chute (chute@stanford.edu)\n",
    "\"\"\"\n",
    "\n",
    "#import layers\n",
    "import torch\n",
    "import torch.nn as nn\n",
    "\n",
    "\n",
    "class BiDAF(nn.Module):\n",
    "    \"\"\"Baseline BiDAF model for SQuAD.\n",
    "    Based on the paper:\n",
    "    \"Bidirectional Attention Flow for Machine Comprehension\"\n",
    "    by Minjoon Seo, Aniruddha Kembhavi, Ali Farhadi, Hannaneh Hajishirzi\n",
    "    (https://arxiv.org/abs/1611.01603).\n",
    "    Follows a high-level structure commonly found in SQuAD models:\n",
    "        - Embedding layer: Embed word indices to get word vectors.\n",
    "        - Encoder layer: Encode the embedded sequence.\n",
    "        - Attention layer: Apply an attention mechanism to the encoded sequence.\n",
    "        - Model encoder layer: Encode the sequence again.\n",
    "        - Output layer: Simple layer (e.g., fc + softmax) to get final outputs.\n",
    "    Args:\n",
    "        word_vectors (torch.Tensor): Pre-trained word vectors.\n",
    "        hidden_size (int): Number of features in the hidden state at each layer.\n",
    "        drop_prob (float): Dropout probability.\n",
    "    \"\"\"\n",
    "    def __init__(self, word_vectors, hidden_size, drop_prob=0.):\n",
    "        super(BiDAF, self).__init__()\n",
    "        self.emb = layers.Embedding(word_vectors=word_vectors,\n",
    "                                    hidden_size=hidden_size,\n",
    "                                    drop_prob=drop_prob)\n",
    "\n",
    "        self.enc = layers.RNNEncoder(input_size=hidden_size,\n",
    "                                     hidden_size=hidden_size,\n",
    "                                     num_layers=1,\n",
    "                                     drop_prob=drop_prob)\n",
    "\n",
    "        self.att = layers.BiDAFAttention(hidden_size=2 * hidden_size,\n",
    "                                         drop_prob=drop_prob)\n",
    "\n",
    "        self.mod = layers.RNNEncoder(input_size=8 * hidden_size,\n",
    "                                     hidden_size=hidden_size,\n",
    "                                     num_layers=2,\n",
    "                                     drop_prob=drop_prob)\n",
    "\n",
    "        self.out = layers.BiDAFOutput(hidden_size=hidden_size,\n",
    "                                      drop_prob=drop_prob)\n",
    "\n",
    "    def forward(self, cw_idxs, qw_idxs):\n",
    "        c_mask = torch.zeros_like(cw_idxs) != cw_idxs\n",
    "        q_mask = torch.zeros_like(qw_idxs) != qw_idxs\n",
    "        c_len, q_len = c_mask.sum(-1), q_mask.sum(-1)\n",
    "\n",
    "        c_emb = self.emb(cw_idxs)         # (batch_size, c_len, hidden_size)\n",
    "        q_emb = self.emb(qw_idxs)         # (batch_size, q_len, hidden_size)\n",
    "\n",
    "        c_enc = self.enc(c_emb, c_len)    # (batch_size, c_len, 2 * hidden_size)\n",
    "        q_enc = self.enc(q_emb, q_len)    # (batch_size, q_len, 2 * hidden_size)\n",
    "\n",
    "        att = self.att(c_enc, q_enc,\n",
    "                       c_mask, q_mask)    # (batch_size, c_len, 8 * hidden_size)\n",
    "\n",
    "        mod = self.mod(att, c_len)        # (batch_size, c_len, 2 * hidden_size)\n",
    "\n",
    "        out = self.out(att, mod, c_mask)  # 2 tensors, each (batch_size, c_len)\n",
    "\n",
    "        return out\n"
   ]
  },
  {
   "cell_type": "code",
   "execution_count": null,
   "metadata": {
    "id": "007EAH4D9hzG"
   },
   "outputs": [],
   "source": []
  },
  {
   "cell_type": "markdown",
   "metadata": {
    "id": "ImUAHVZtsrfS"
   },
   "source": [
    "# Setup \n",
    "https://github.com/minggg/squad/blob/master/setup.py\n"
   ]
  },
  {
   "cell_type": "code",
   "execution_count": 79,
   "metadata": {
    "execution": {
     "iopub.execute_input": "2021-09-13T16:51:11.598514Z",
     "iopub.status.busy": "2021-09-13T16:51:11.598048Z",
     "iopub.status.idle": "2021-09-13T16:51:11.602591Z",
     "shell.execute_reply": "2021-09-13T16:51:11.601779Z",
     "shell.execute_reply.started": "2021-09-13T16:51:11.598495Z"
    },
    "id": "vkB4FPpmtffC"
   },
   "outputs": [],
   "source": [
    "import numpy as np\n",
    "import os\n",
    "import spacy\n",
    "import ujson as json\n",
    "import urllib.request\n",
    "\n",
    "#from args import get_setup_args\n",
    "from codecs import open\n",
    "from collections import Counter\n",
    "from subprocess import run\n",
    "from tqdm import tqdm\n",
    "from zipfile import ZipFile\n"
   ]
  },
  {
   "cell_type": "code",
   "execution_count": 80,
   "metadata": {
    "execution": {
     "iopub.execute_input": "2021-09-13T16:51:12.702666Z",
     "iopub.status.busy": "2021-09-13T16:51:12.702184Z",
     "iopub.status.idle": "2021-09-13T16:51:12.708094Z",
     "shell.execute_reply": "2021-09-13T16:51:12.707323Z",
     "shell.execute_reply.started": "2021-09-13T16:51:12.702646Z"
    },
    "id": "B2gAM0nntl4i"
   },
   "outputs": [],
   "source": [
    "# Already have data so dont need this \n",
    "def download_url(url, output_path, show_progress=True):\n",
    "    class DownloadProgressBar(tqdm):\n",
    "        def update_to(self, b=1, bsize=1, tsize=None):\n",
    "            if tsize is not None:\n",
    "                self.total = tsize\n",
    "            self.update(b * bsize - self.n)\n",
    "\n",
    "    if show_progress:\n",
    "        # Download with a progress bar\n",
    "        with DownloadProgressBar(unit='B', unit_scale=True,\n",
    "                                 miniters=1, desc=url.split('/')[-1]) as t:\n",
    "            urllib.request.urlretrieve(url,\n",
    "                                       filename=output_path,\n",
    "                                       reporthook=t.update_to)\n",
    "    else:\n",
    "        # Simple download with no progress bar\n",
    "        urllib.request.urlretrieve(url, output_path)"
   ]
  },
  {
   "cell_type": "code",
   "execution_count": 81,
   "metadata": {
    "execution": {
     "iopub.execute_input": "2021-09-13T16:51:13.519228Z",
     "iopub.status.busy": "2021-09-13T16:51:13.518819Z",
     "iopub.status.idle": "2021-09-13T16:51:13.523281Z",
     "shell.execute_reply": "2021-09-13T16:51:13.522454Z",
     "shell.execute_reply.started": "2021-09-13T16:51:13.519209Z"
    },
    "id": "rKl4QETytr36"
   },
   "outputs": [],
   "source": [
    "def url_to_data_path(url):\n",
    "    return os.path.join('./data/', url.split('/')[-1])"
   ]
  },
  {
   "cell_type": "code",
   "execution_count": 112,
   "metadata": {
    "execution": {
     "iopub.execute_input": "2021-09-13T16:51:14.200052Z",
     "iopub.status.busy": "2021-09-13T16:51:14.199858Z",
     "iopub.status.idle": "2021-09-13T16:51:14.205269Z",
     "shell.execute_reply": "2021-09-13T16:51:14.204569Z",
     "shell.execute_reply.started": "2021-09-13T16:51:14.200035Z"
    },
    "id": "7lkPTnYytx00"
   },
   "outputs": [],
   "source": [
    "def download(url=glove_url):\n",
    "    downloads = [\n",
    "        # Can add other downloads here (e.g., other word vectors)\n",
    "        ('GloVe word vectors', url),\n",
    "    ]\n",
    "    # commented below out since we have files downloaded already\n",
    "    '''for name, url in downloads:\n",
    "        output_path = url_to_data_path(url)\n",
    "        if not os.path.exists(output_path):\n",
    "            print(f'Downloading {name}...')\n",
    "            download_url(url, output_path)\n",
    "\n",
    "        if os.path.exists(output_path) and output_path.endswith('.zip'):\n",
    "            extracted_path = output_path.replace('.zip', '')\n",
    "            if not os.path.exists(extracted_path):\n",
    "                print(f'Unzipping {name}...')\n",
    "                with ZipFile(output_path, 'r') as zip_fh:\n",
    "                    zip_fh.extractall(extracted_path)'''\n",
    "\n",
    "    print('Downloading spacy language model...') # ???? \n",
    "    run(['python', '-m', 'spacy', 'download', 'en']) # need this? \n"
   ]
  },
  {
   "cell_type": "code",
   "execution_count": 115,
   "metadata": {
    "execution": {
     "iopub.execute_input": "2021-09-13T16:51:14.833249Z",
     "iopub.status.busy": "2021-09-13T16:51:14.832881Z",
     "iopub.status.idle": "2021-09-13T16:51:14.837045Z",
     "shell.execute_reply": "2021-09-13T16:51:14.836290Z",
     "shell.execute_reply.started": "2021-09-13T16:51:14.833210Z"
    },
    "id": "zox7fZ0Oujki"
   },
   "outputs": [],
   "source": [
    "def word_tokenize(sent):\n",
    "    doc = nlp(sent) # from spacy \n",
    "    return [token.text for token in doc]"
   ]
  },
  {
   "cell_type": "code",
   "execution_count": 84,
   "metadata": {
    "execution": {
     "iopub.execute_input": "2021-09-13T16:51:15.430362Z",
     "iopub.status.busy": "2021-09-13T16:51:15.429919Z",
     "iopub.status.idle": "2021-09-13T16:51:15.434624Z",
     "shell.execute_reply": "2021-09-13T16:51:15.433690Z",
     "shell.execute_reply.started": "2021-09-13T16:51:15.430344Z"
    },
    "id": "5S2pit_DuxwX"
   },
   "outputs": [],
   "source": [
    "def convert_idx(text, tokens):\n",
    "    current = 0\n",
    "    spans = []\n",
    "    for token in tokens:\n",
    "        current = text.find(token, current)\n",
    "        if current < 0:\n",
    "            print(f\"Token {token} cannot be found\")\n",
    "            raise Exception()\n",
    "        spans.append((current, current + len(token)))\n",
    "        current += len(token)\n",
    "    return spans"
   ]
  },
  {
   "cell_type": "code",
   "execution_count": 85,
   "metadata": {
    "execution": {
     "iopub.execute_input": "2021-09-13T16:51:16.062601Z",
     "iopub.status.busy": "2021-09-13T16:51:16.062081Z",
     "iopub.status.idle": "2021-09-13T16:51:16.071740Z",
     "shell.execute_reply": "2021-09-13T16:51:16.070912Z",
     "shell.execute_reply.started": "2021-09-13T16:51:16.062557Z"
    },
    "id": "J4CszDnlu6mO"
   },
   "outputs": [],
   "source": [
    "def process_file(filename, data_type, word_counter, char_counter):\n",
    "    print(f\"Pre-processing {data_type} examples...\")\n",
    "    examples = []\n",
    "    eval_examples = {}\n",
    "    total = 0\n",
    "    with open(filename, \"r\") as fh:\n",
    "        source = json.load(fh)\n",
    "        for article in tqdm(source[\"data\"]):\n",
    "            for para in article[\"paragraphs\"]:\n",
    "                context = para[\"context\"].replace(\n",
    "                    \"''\", '\" ').replace(\"``\", '\" ')\n",
    "                context_tokens = word_tokenize(context)\n",
    "                context_chars = [list(token) for token in context_tokens]\n",
    "                spans = convert_idx(context, context_tokens)\n",
    "                for token in context_tokens:\n",
    "                    word_counter[token] += len(para[\"qas\"])\n",
    "                    for char in token:\n",
    "                        char_counter[char] += len(para[\"qas\"])\n",
    "                for qa in para[\"qas\"]:\n",
    "                    total += 1\n",
    "                    ques = qa[\"question\"].replace(\n",
    "                        \"''\", '\" ').replace(\"``\", '\" ')\n",
    "                    ques_tokens = word_tokenize(ques)\n",
    "                    ques_chars = [list(token) for token in ques_tokens]\n",
    "                    for token in ques_tokens:\n",
    "                        word_counter[token] += 1\n",
    "                        for char in token:\n",
    "                            char_counter[char] += 1\n",
    "                    y1s, y2s = [], []\n",
    "                    answer_texts = []\n",
    "                    for answer in qa[\"answers\"]:\n",
    "                        answer_text = answer[\"text\"]\n",
    "                        answer_start = answer['answer_start']\n",
    "                        answer_end = answer_start + len(answer_text)\n",
    "                        answer_texts.append(answer_text)\n",
    "                        answer_span = []\n",
    "                        for idx, span in enumerate(spans):\n",
    "                            if not (answer_end <= span[0] or answer_start >= span[1]):\n",
    "                                answer_span.append(idx)\n",
    "                        y1, y2 = answer_span[0], answer_span[-1]\n",
    "                        y1s.append(y1)\n",
    "                        y2s.append(y2)\n",
    "                    example = {\"context_tokens\": context_tokens,\n",
    "                               \"context_chars\": context_chars,\n",
    "                               \"ques_tokens\": ques_tokens,\n",
    "                               \"ques_chars\": ques_chars,\n",
    "                               \"y1s\": y1s,\n",
    "                               \"y2s\": y2s,\n",
    "                               \"id\": total}\n",
    "                    examples.append(example)\n",
    "                    eval_examples[str(total)] = {\"context\": context,\n",
    "                                                 \"question\": ques,\n",
    "                                                 \"spans\": spans,\n",
    "                                                 \"answers\": answer_texts,\n",
    "                                                 \"uuid\": qa[\"id\"]}\n",
    "        print(f\"{len(examples)} questions in total\")\n",
    "    return examples, eval_examples\n"
   ]
  },
  {
   "cell_type": "code",
   "execution_count": 86,
   "metadata": {
    "execution": {
     "iopub.execute_input": "2021-09-13T16:51:16.822379Z",
     "iopub.status.busy": "2021-09-13T16:51:16.822034Z",
     "iopub.status.idle": "2021-09-13T16:51:16.830584Z",
     "shell.execute_reply": "2021-09-13T16:51:16.829628Z",
     "shell.execute_reply.started": "2021-09-13T16:51:16.822362Z"
    },
    "id": "8IF9DME0v8iz"
   },
   "outputs": [],
   "source": [
    "def get_embedding(counter, data_type, limit=-1, emb_file=None, vec_size=None, num_vectors=None):\n",
    "    print(f\"Pre-processing {data_type} vectors...\")\n",
    "    embedding_dict = {}\n",
    "    filtered_elements = [k for k, v in counter.items() if v > limit]\n",
    "    if emb_file is not None:\n",
    "        assert vec_size is not None\n",
    "        with open(emb_file, \"r\", encoding=\"utf-8\") as fh:\n",
    "            for line in tqdm(fh, total=num_vectors):\n",
    "                array = line.split()\n",
    "                word = \"\".join(array[0:-vec_size])\n",
    "                vector = list(map(float, array[-vec_size:]))\n",
    "                if word in counter and counter[word] > limit:\n",
    "                    embedding_dict[word] = vector\n",
    "        print(f\"{len(embedding_dict)} / {len(filtered_elements)} tokens have corresponding {data_type} embedding vector\")\n",
    "    else:\n",
    "        assert vec_size is not None\n",
    "        for token in filtered_elements:\n",
    "            embedding_dict[token] = [np.random.normal(\n",
    "                scale=0.1) for _ in range(vec_size)]\n",
    "        print(f\"{len(filtered_elements)} tokens have corresponding {data_type} embedding vector\")\n",
    "\n",
    "    NULL = \"--NULL--\"\n",
    "    OOV = \"--OOV--\"\n",
    "    token2idx_dict = {token: idx for idx, token in enumerate(embedding_dict.keys(), 2)}\n",
    "    token2idx_dict[NULL] = 0\n",
    "    token2idx_dict[OOV] = 1\n",
    "    embedding_dict[NULL] = [0. for _ in range(vec_size)]\n",
    "    embedding_dict[OOV] = [0. for _ in range(vec_size)]\n",
    "    idx2emb_dict = {idx: embedding_dict[token]\n",
    "                    for token, idx in token2idx_dict.items()}\n",
    "    emb_mat = [idx2emb_dict[idx] for idx in range(len(idx2emb_dict))]\n",
    "    return emb_mat, token2idx_dict\n",
    "\n"
   ]
  },
  {
   "cell_type": "code",
   "execution_count": 99,
   "metadata": {
    "execution": {
     "iopub.execute_input": "2021-09-13T16:51:18.655104Z",
     "iopub.status.busy": "2021-09-13T16:51:18.654571Z",
     "iopub.status.idle": "2021-09-13T16:51:18.663547Z",
     "shell.execute_reply": "2021-09-13T16:51:18.662804Z",
     "shell.execute_reply.started": "2021-09-13T16:51:18.655070Z"
    },
    "id": "tjs9iqDPwSPO"
   },
   "outputs": [],
   "source": [
    "def convert_to_features( data, word2idx_dict, char2idx_dict, is_test):\n",
    "    example = {}\n",
    "    context, question = data\n",
    "    context = context.replace(\"''\", '\" ').replace(\"``\", '\" ')\n",
    "    question = question.replace(\"''\", '\" ').replace(\"``\", '\" ')\n",
    "    example['context_tokens'] = word_tokenize(context)\n",
    "    example['ques_tokens'] = word_tokenize(question)\n",
    "    example['context_chars'] = [list(token) for token in example['context_tokens']]\n",
    "    example['ques_chars'] = [list(token) for token in example['ques_tokens']]\n",
    "    para_limit =  500 # Max number of words in a paragraph\n",
    "    ques_limit = 50  # Max number of words to keep from a question\n",
    "    test_para_limit = 1000 # Max number of words in a paragraph at test time\n",
    "    test_ques_limit = 100 # Max number of words in a question at test time\n",
    "    ans_limit = 50 # Max number of words in a training example answer\n",
    "    char_limit= 16 # Max number of chars to keep from a word\n",
    "    para_limit = test_para_limit if is_test else para_limit\n",
    "    \n",
    "    ques_limit = test_ques_limit if is_test else ques_limit\n",
    "    char_limit = char_limit\n",
    "\n",
    "    def filter_func(example):\n",
    "        return len(example[\"context_tokens\"]) > para_limit or \\\n",
    "               len(example[\"ques_tokens\"]) > ques_limit\n",
    "\n",
    "    if filter_func(example):\n",
    "        raise ValueError(\"Context/Questions lengths are over the limit\")\n",
    "\n",
    "    context_idxs = np.zeros([para_limit], dtype=np.int32)\n",
    "    context_char_idxs = np.zeros([para_limit, char_limit], dtype=np.int32)\n",
    "    ques_idxs = np.zeros([ques_limit], dtype=np.int32)\n",
    "    ques_char_idxs = np.zeros([ques_limit, char_limit], dtype=np.int32)\n",
    "\n",
    "    def _get_word(word):\n",
    "        for each in (word, word.lower(), word.capitalize(), word.upper()):\n",
    "            if each in word2idx_dict:\n",
    "                return word2idx_dict[each]\n",
    "        return 1\n",
    "\n",
    "    def _get_char(char):\n",
    "        if char in char2idx_dict:\n",
    "            return char2idx_dict[char]\n",
    "        return 1\n",
    "\n",
    "    for i, token in enumerate(example[\"context_tokens\"]):\n",
    "        context_idxs[i] = _get_word(token)\n",
    "\n",
    "    for i, token in enumerate(example[\"ques_tokens\"]):\n",
    "        ques_idxs[i] = _get_word(token)\n",
    "\n",
    "    for i, token in enumerate(example[\"context_chars\"]):\n",
    "        for j, char in enumerate(token):\n",
    "            if j == char_limit:\n",
    "                break\n",
    "            context_char_idxs[i, j] = _get_char(char)\n",
    "\n",
    "    for i, token in enumerate(example[\"ques_chars\"]):\n",
    "        for j, char in enumerate(token):\n",
    "            if j == char_limit:\n",
    "                break\n",
    "            ques_char_idxs[i, j] = _get_char(char)\n",
    "\n",
    "    return context_idxs, context_char_idxs, ques_idxs, ques_char_idxs"
   ]
  },
  {
   "cell_type": "code",
   "execution_count": 100,
   "metadata": {
    "execution": {
     "iopub.execute_input": "2021-09-13T16:51:19.320890Z",
     "iopub.status.busy": "2021-09-13T16:51:19.320186Z",
     "iopub.status.idle": "2021-09-13T16:51:19.324774Z",
     "shell.execute_reply": "2021-09-13T16:51:19.323836Z",
     "shell.execute_reply.started": "2021-09-13T16:51:19.320867Z"
    },
    "id": "thL4l5FSxIBG"
   },
   "outputs": [],
   "source": [
    "def is_answerable(example):\n",
    "    return len(example['y2s']) > 0 and len(example['y1s']) > 0"
   ]
  },
  {
   "cell_type": "code",
   "execution_count": 106,
   "metadata": {
    "execution": {
     "iopub.execute_input": "2021-09-13T16:51:20.007023Z",
     "iopub.status.busy": "2021-09-13T16:51:20.006465Z",
     "iopub.status.idle": "2021-09-13T16:51:20.018483Z",
     "shell.execute_reply": "2021-09-13T16:51:20.017700Z",
     "shell.execute_reply.started": "2021-09-13T16:51:20.007004Z"
    },
    "id": "0CD2KuI4xKq0"
   },
   "outputs": [],
   "source": [
    "def build_features(examples, data_type, out_file, word2idx_dict, char2idx_dict, is_test=False):\n",
    "    para_limit= 500\n",
    "    \n",
    "    para_limit = test_para_limit if is_test else para_limit\n",
    "    ques_limit = test_ques_limit if is_test else ques_limit\n",
    "    ans_limit = ans_limit\n",
    "    char_limit = char_limit\n",
    "\n",
    "    def drop_example(ex, is_test_=False):\n",
    "        if is_test_:\n",
    "            drop = False\n",
    "        else:\n",
    "            drop = len(ex[\"context_tokens\"]) > para_limit or \\\n",
    "                   len(ex[\"ques_tokens\"]) > ques_limit or \\\n",
    "                   (is_answerable(ex) and\n",
    "                    ex[\"y2s\"][0] - ex[\"y1s\"][0] > ans_limit)\n",
    "\n",
    "        return drop\n",
    "\n",
    "    print(f\"Converting {data_type} examples to indices...\")\n",
    "    total = 0\n",
    "    total_ = 0\n",
    "    meta = {}\n",
    "    context_idxs = []\n",
    "    context_char_idxs = []\n",
    "    ques_idxs = []\n",
    "    ques_char_idxs = []\n",
    "    y1s = []\n",
    "    y2s = []\n",
    "    ids = []\n",
    "    for n, example in tqdm(enumerate(examples)):\n",
    "        total_ += 1\n",
    "\n",
    "        if drop_example(example, is_test):\n",
    "            continue\n",
    "\n",
    "        total += 1\n",
    "\n",
    "        def _get_word(word):\n",
    "            for each in (word, word.lower(), word.capitalize(), word.upper()):\n",
    "                if each in word2idx_dict:\n",
    "                    return word2idx_dict[each]\n",
    "            return 1\n",
    "\n",
    "        def _get_char(char):\n",
    "            if char in char2idx_dict:\n",
    "                return char2idx_dict[char]\n",
    "            return 1\n",
    "\n",
    "        context_idx = np.zeros([para_limit], dtype=np.int32)\n",
    "        context_char_idx = np.zeros([para_limit, char_limit], dtype=np.int32)\n",
    "        ques_idx = np.zeros([ques_limit], dtype=np.int32)\n",
    "        ques_char_idx = np.zeros([ques_limit, char_limit], dtype=np.int32)\n",
    "\n",
    "        for i, token in enumerate(example[\"context_tokens\"]):\n",
    "            context_idx[i] = _get_word(token)\n",
    "        context_idxs.append(context_idx)\n",
    "\n",
    "        for i, token in enumerate(example[\"ques_tokens\"]):\n",
    "            ques_idx[i] = _get_word(token)\n",
    "        ques_idxs.append(ques_idx)\n",
    "\n",
    "        for i, token in enumerate(example[\"context_chars\"]):\n",
    "            for j, char in enumerate(token):\n",
    "                if j == char_limit:\n",
    "                    break\n",
    "                context_char_idx[i, j] = _get_char(char)\n",
    "        context_char_idxs.append(context_char_idx)\n",
    "\n",
    "        for i, token in enumerate(example[\"ques_chars\"]):\n",
    "            for j, char in enumerate(token):\n",
    "                if j == char_limit:\n",
    "                    break\n",
    "                ques_char_idx[i, j] = _get_char(char)\n",
    "        ques_char_idxs.append(ques_char_idx)\n",
    "\n",
    "        if is_answerable(example):\n",
    "            start, end = example[\"y1s\"][-1], example[\"y2s\"][-1]\n",
    "        else:\n",
    "            start, end = -1, -1\n",
    "\n",
    "        y1s.append(start)\n",
    "        y2s.append(end)\n",
    "        ids.append(example[\"id\"])\n",
    "\n",
    "    np.savez(out_file,\n",
    "             context_idxs=np.array(context_idxs),\n",
    "             context_char_idxs=np.array(context_char_idxs),\n",
    "             ques_idxs=np.array(ques_idxs),\n",
    "             ques_char_idxs=np.array(ques_char_idxs),\n",
    "             y1s=np.array(y1s),\n",
    "             y2s=np.array(y2s),\n",
    "             ids=np.array(ids))\n",
    "    print(f\"Built {total} / {total_} instances of features in total\")\n",
    "    meta[\"total\"] = total\n",
    "    return meta"
   ]
  },
  {
   "cell_type": "code",
   "execution_count": 107,
   "metadata": {
    "execution": {
     "iopub.execute_input": "2021-09-13T16:51:20.621891Z",
     "iopub.status.busy": "2021-09-13T16:51:20.621704Z",
     "iopub.status.idle": "2021-09-13T16:51:20.626093Z",
     "shell.execute_reply": "2021-09-13T16:51:20.625489Z",
     "shell.execute_reply.started": "2021-09-13T16:51:20.621874Z"
    },
    "id": "lm5-4t2nxpWA"
   },
   "outputs": [],
   "source": [
    "def save(filename, obj, message=None):\n",
    "    if message is not None:\n",
    "        print(f\"Saving {message}...\")\n",
    "        with open(filename, \"w\") as fh:\n",
    "            json.dump(obj, fh)"
   ]
  },
  {
   "cell_type": "code",
   "execution_count": 108,
   "metadata": {
    "execution": {
     "iopub.execute_input": "2021-09-13T16:51:21.254915Z",
     "iopub.status.busy": "2021-09-13T16:51:21.254469Z",
     "iopub.status.idle": "2021-09-13T16:51:21.260928Z",
     "shell.execute_reply": "2021-09-13T16:51:21.260139Z",
     "shell.execute_reply.started": "2021-09-13T16:51:21.254883Z"
    },
    "id": "mIlOvhIdB8OJ"
   },
   "outputs": [],
   "source": [
    "def pre_process():\n",
    "    # Process training set and use it to decide on the word/character vocabularies\n",
    "    word_counter, char_counter = Counter(), Counter()\n",
    "    train_examples, train_eval = process_file(train_file, \"train\", word_counter, char_counter)\n",
    "    word_emb_mat, word2idx_dict = get_embedding(\n",
    "        word_counter, 'word', emb_file=glove_file, vec_size=glove_dim, num_vectors=glove_num_vecs)\n",
    "    char_emb_mat, char2idx_dict = get_embedding(\n",
    "        char_counter, 'char', emb_file=None, vec_size=char_dim)\n",
    "\n",
    "    # Process dev and test sets\n",
    "    dev_examples, dev_eval = process_file(dev_file, \"dev\", word_counter, char_counter)\n",
    "    build_features(train_examples, \"train\", train_record_file, word2idx_dict, char2idx_dict)\n",
    "    dev_meta = build_features(dev_examples, \"dev\",dev_record_file, word2idx_dict, char2idx_dict)\n",
    "    if include_test_examples:\n",
    "        test_examples, test_eval = process_file(test_file, \"test\", word_counter, char_counter)\n",
    "        save(test_eval_file, test_eval, message=\"test eval\")\n",
    "        test_meta = build_features( test_examples, \"test\",\n",
    "                                   test_record_file, word2idx_dict, char2idx_dict, is_test=True)\n",
    "        save(test_meta_file, test_meta, message=\"test meta\")\n",
    "\n",
    "    save(word_emb_file, word_emb_mat, message=\"word embedding\")\n",
    "    save(char_emb_file, char_emb_mat, message=\"char embedding\")\n",
    "    save(train_eval_file, train_eval, message=\"train eval\")\n",
    "    save(dev_eval_file, dev_eval, message=\"dev eval\")\n",
    "    save(word2idx_file, word2idx_dict, message=\"word dictionary\")\n",
    "    save(char2idx_file, char2idx_dict, message=\"char dictionary\")\n",
    "    save(dev_meta_file, dev_meta, message=\"dev meta\")\n"
   ]
  },
  {
   "cell_type": "code",
   "execution_count": 109,
   "metadata": {
    "execution": {
     "iopub.execute_input": "2021-09-13T16:51:22.205896Z",
     "iopub.status.busy": "2021-09-13T16:51:22.205717Z",
     "iopub.status.idle": "2021-09-13T16:51:22.359561Z",
     "shell.execute_reply": "2021-09-13T16:51:22.358952Z",
     "shell.execute_reply.started": "2021-09-13T16:51:22.205880Z"
    },
    "id": "_vgKzysNCNNP"
   },
   "outputs": [],
   "source": [
    "# RUNNING MAIN \n",
    "# Import spacy language model\n",
    "nlp = spacy.blank(\"en\")"
   ]
  },
  {
   "cell_type": "code",
   "execution_count": 110,
   "metadata": {
    "colab": {
     "base_uri": "https://localhost:8080/",
     "height": 542
    },
    "execution": {
     "iopub.execute_input": "2021-09-13T16:51:22.914299Z",
     "iopub.status.busy": "2021-09-13T16:51:22.913593Z"
    },
    "id": "WkkO2UW1CRxd",
    "outputId": "febb3d49-5459-4715-8763-25c32a8f6fca"
   },
   "outputs": [
    {
     "name": "stdout",
     "output_type": "stream",
     "text": [
      "Pre-processing train examples...\n"
     ]
    },
    {
     "name": "stderr",
     "output_type": "stream",
     "text": [
      "  0%|                                                   | 0/442 [00:06<?, ?it/s]\n"
     ]
    },
    {
     "ename": "KeyboardInterrupt",
     "evalue": "",
     "output_type": "error",
     "traceback": [
      "\u001b[0;31m---------------------------------------------------------------------------\u001b[0m",
      "\u001b[0;31mKeyboardInterrupt\u001b[0m                         Traceback (most recent call last)",
      "\u001b[0;32m/tmp/ipykernel_4119/3497850163.py\u001b[0m in \u001b[0;36m<module>\u001b[0;34m\u001b[0m\n\u001b[1;32m      7\u001b[0m \u001b[0mglove_ext\u001b[0m \u001b[0;34m=\u001b[0m \u001b[0;34mf'.txt'\u001b[0m \u001b[0;32mif\u001b[0m \u001b[0mglove_dir\u001b[0m\u001b[0;34m.\u001b[0m\u001b[0mendswith\u001b[0m\u001b[0;34m(\u001b[0m\u001b[0;34m'd'\u001b[0m\u001b[0;34m)\u001b[0m \u001b[0;32melse\u001b[0m \u001b[0;34mf'.{glove_dim}d.txt'\u001b[0m\u001b[0;34m\u001b[0m\u001b[0;34m\u001b[0m\u001b[0m\n\u001b[1;32m      8\u001b[0m \u001b[0mglove_file\u001b[0m \u001b[0;34m=\u001b[0m \u001b[0;34m'./data/glove.6B.300d.txt'\u001b[0m\u001b[0;31m# os.path.join(glove_dir, os.path.basename(glove_dir) + glove_ext)\u001b[0m\u001b[0;34m\u001b[0m\u001b[0;34m\u001b[0m\u001b[0m\n\u001b[0;32m----> 9\u001b[0;31m \u001b[0mpre_process\u001b[0m\u001b[0;34m(\u001b[0m\u001b[0;34m)\u001b[0m\u001b[0;34m\u001b[0m\u001b[0;34m\u001b[0m\u001b[0m\n\u001b[0m",
      "\u001b[0;32m/tmp/ipykernel_4119/3093839799.py\u001b[0m in \u001b[0;36mpre_process\u001b[0;34m()\u001b[0m\n\u001b[1;32m      2\u001b[0m     \u001b[0;31m# Process training set and use it to decide on the word/character vocabularies\u001b[0m\u001b[0;34m\u001b[0m\u001b[0;34m\u001b[0m\u001b[0;34m\u001b[0m\u001b[0m\n\u001b[1;32m      3\u001b[0m     \u001b[0mword_counter\u001b[0m\u001b[0;34m,\u001b[0m \u001b[0mchar_counter\u001b[0m \u001b[0;34m=\u001b[0m \u001b[0mCounter\u001b[0m\u001b[0;34m(\u001b[0m\u001b[0;34m)\u001b[0m\u001b[0;34m,\u001b[0m \u001b[0mCounter\u001b[0m\u001b[0;34m(\u001b[0m\u001b[0;34m)\u001b[0m\u001b[0;34m\u001b[0m\u001b[0;34m\u001b[0m\u001b[0m\n\u001b[0;32m----> 4\u001b[0;31m     \u001b[0mtrain_examples\u001b[0m\u001b[0;34m,\u001b[0m \u001b[0mtrain_eval\u001b[0m \u001b[0;34m=\u001b[0m \u001b[0mprocess_file\u001b[0m\u001b[0;34m(\u001b[0m\u001b[0mtrain_file\u001b[0m\u001b[0;34m,\u001b[0m \u001b[0;34m\"train\"\u001b[0m\u001b[0;34m,\u001b[0m \u001b[0mword_counter\u001b[0m\u001b[0;34m,\u001b[0m \u001b[0mchar_counter\u001b[0m\u001b[0;34m)\u001b[0m\u001b[0;34m\u001b[0m\u001b[0;34m\u001b[0m\u001b[0m\n\u001b[0m\u001b[1;32m      5\u001b[0m     word_emb_mat, word2idx_dict = get_embedding(\n\u001b[1;32m      6\u001b[0m         word_counter, 'word', emb_file=glove_file, vec_size=glove_dim, num_vectors=glove_num_vecs)\n",
      "\u001b[0;32m/tmp/ipykernel_4119/4196529091.py\u001b[0m in \u001b[0;36mprocess_file\u001b[0;34m(filename, data_type, word_counter, char_counter)\u001b[0m\n\u001b[1;32m     11\u001b[0m                     \"''\", '\" ').replace(\"``\", '\" ')\n\u001b[1;32m     12\u001b[0m                 \u001b[0mcontext_tokens\u001b[0m \u001b[0;34m=\u001b[0m \u001b[0mword_tokenize\u001b[0m\u001b[0;34m(\u001b[0m\u001b[0mcontext\u001b[0m\u001b[0;34m)\u001b[0m\u001b[0;34m\u001b[0m\u001b[0;34m\u001b[0m\u001b[0m\n\u001b[0;32m---> 13\u001b[0;31m                 \u001b[0mcontext_chars\u001b[0m \u001b[0;34m=\u001b[0m \u001b[0;34m[\u001b[0m\u001b[0mlist\u001b[0m\u001b[0;34m(\u001b[0m\u001b[0mtoken\u001b[0m\u001b[0;34m)\u001b[0m \u001b[0;32mfor\u001b[0m \u001b[0mtoken\u001b[0m \u001b[0;32min\u001b[0m \u001b[0mcontext_tokens\u001b[0m\u001b[0;34m]\u001b[0m\u001b[0;34m\u001b[0m\u001b[0;34m\u001b[0m\u001b[0m\n\u001b[0m\u001b[1;32m     14\u001b[0m                 \u001b[0mspans\u001b[0m \u001b[0;34m=\u001b[0m \u001b[0mconvert_idx\u001b[0m\u001b[0;34m(\u001b[0m\u001b[0mcontext\u001b[0m\u001b[0;34m,\u001b[0m \u001b[0mcontext_tokens\u001b[0m\u001b[0;34m)\u001b[0m\u001b[0;34m\u001b[0m\u001b[0;34m\u001b[0m\u001b[0m\n\u001b[1;32m     15\u001b[0m                 \u001b[0;32mfor\u001b[0m \u001b[0mtoken\u001b[0m \u001b[0;32min\u001b[0m \u001b[0mcontext_tokens\u001b[0m\u001b[0;34m:\u001b[0m\u001b[0;34m\u001b[0m\u001b[0;34m\u001b[0m\u001b[0m\n",
      "\u001b[0;32m/tmp/ipykernel_4119/4196529091.py\u001b[0m in \u001b[0;36m<listcomp>\u001b[0;34m(.0)\u001b[0m\n\u001b[1;32m     11\u001b[0m                     \"''\", '\" ').replace(\"``\", '\" ')\n\u001b[1;32m     12\u001b[0m                 \u001b[0mcontext_tokens\u001b[0m \u001b[0;34m=\u001b[0m \u001b[0mword_tokenize\u001b[0m\u001b[0;34m(\u001b[0m\u001b[0mcontext\u001b[0m\u001b[0;34m)\u001b[0m\u001b[0;34m\u001b[0m\u001b[0;34m\u001b[0m\u001b[0m\n\u001b[0;32m---> 13\u001b[0;31m                 \u001b[0mcontext_chars\u001b[0m \u001b[0;34m=\u001b[0m \u001b[0;34m[\u001b[0m\u001b[0mlist\u001b[0m\u001b[0;34m(\u001b[0m\u001b[0mtoken\u001b[0m\u001b[0;34m)\u001b[0m \u001b[0;32mfor\u001b[0m \u001b[0mtoken\u001b[0m \u001b[0;32min\u001b[0m \u001b[0mcontext_tokens\u001b[0m\u001b[0;34m]\u001b[0m\u001b[0;34m\u001b[0m\u001b[0;34m\u001b[0m\u001b[0m\n\u001b[0m\u001b[1;32m     14\u001b[0m                 \u001b[0mspans\u001b[0m \u001b[0;34m=\u001b[0m \u001b[0mconvert_idx\u001b[0m\u001b[0;34m(\u001b[0m\u001b[0mcontext\u001b[0m\u001b[0;34m,\u001b[0m \u001b[0mcontext_tokens\u001b[0m\u001b[0;34m)\u001b[0m\u001b[0;34m\u001b[0m\u001b[0;34m\u001b[0m\u001b[0m\n\u001b[1;32m     15\u001b[0m                 \u001b[0;32mfor\u001b[0m \u001b[0mtoken\u001b[0m \u001b[0;32min\u001b[0m \u001b[0mcontext_tokens\u001b[0m\u001b[0;34m:\u001b[0m\u001b[0;34m\u001b[0m\u001b[0;34m\u001b[0m\u001b[0m\n",
      "\u001b[0;31mKeyboardInterrupt\u001b[0m: "
     ]
    }
   ],
   "source": [
    "# Preprocess dataset\n",
    "train_file = url_to_data_path(train_url)\n",
    "dev_file = url_to_data_path(dev_url)\n",
    "if include_test_examples:\n",
    "    test_file = url_to_data_path(test_url)\n",
    "glove_dir = url_to_data_path(glove_url.replace('.zip', ''))\n",
    "glove_ext = f'.txt' if glove_dir.endswith('d') else f'.{glove_dim}d.txt'\n",
    "glove_file = './data/glove.6B.300d.txt'# os.path.join(glove_dir, os.path.basename(glove_dir) + glove_ext)\n",
    "pre_process()"
   ]
  },
  {
   "cell_type": "markdown",
   "metadata": {
    "id": "3T07vEM89iCO"
   },
   "source": [
    "# train "
   ]
  },
  {
   "cell_type": "markdown",
   "metadata": {
    "id": "AfgNJn-n2Dic"
   },
   "source": [
    "https://github.com/minggg/squad/blob/master/train.py"
   ]
  },
  {
   "cell_type": "code",
   "execution_count": null,
   "metadata": {
    "id": "uoiV-cwh1DMS"
   },
   "outputs": [],
   "source": [
    "import numpy as np\n",
    "import random\n",
    "import torch\n",
    "import torch.nn as nn\n",
    "import torch.nn.functional as F\n",
    "import torch.optim as optim\n",
    "import torch.optim.lr_scheduler as sched\n",
    "import torch.utils.data as data\n",
    "#import util\n",
    "\n",
    "# from args import get_train_args\n",
    "from collections import OrderedDict\n",
    "from json import dumps\n",
    "#from models import BiDAF\n",
    "#from tensorboardX import SummaryWriter\n",
    "from tqdm import tqdm\n",
    "from ujson import load as json_load\n",
    "#from util import collate_fn, SQuAD\n"
   ]
  },
  {
   "cell_type": "code",
   "execution_count": null,
   "metadata": {
    "id": "jm7zWJV329uW"
   },
   "outputs": [],
   "source": [
    "# Set up logging and devices\n",
    "save_dir = get_save_dir(save_dir, name, training=True)\n",
    "# log = util.get_logger(args.save_dir, args.name)\n",
    "#tbx = SummaryWriter(args.save_dir)\n",
    "device, gpu_ids = get_available_devices()\n",
    "# log.info(f'Args: {dumps(vars(args), indent=4, sort_keys=True)}')\n",
    "batch_size *= max(1, len(gpu_ids))"
   ]
  },
  {
   "cell_type": "code",
   "execution_count": null,
   "metadata": {
    "id": "_V7WnH1q2HZw"
   },
   "outputs": [],
   "source": [
    "# Set random seed\n",
    "#log.info(f'Using random seed {args.seed}...')\n",
    "random.seed(seed)\n",
    "np.random.seed(seed)\n",
    "torch.manual_seed(seed)\n",
    "torch.cuda.manual_seed_all(seed)\n"
   ]
  },
  {
   "cell_type": "code",
   "execution_count": null,
   "metadata": {
    "id": "-LJ7QhrTsgXu"
   },
   "outputs": [],
   "source": []
  },
  {
   "cell_type": "code",
   "execution_count": null,
   "metadata": {
    "colab": {
     "base_uri": "https://localhost:8080/",
     "height": 313
    },
    "id": "gqXARmBJKA4U",
    "outputId": "109f76d4-7306-4e96-fccf-eed038dfb638"
   },
   "outputs": [],
   "source": [
    "# Get embeddings\n",
    "#log.info('Loading embeddings...')\n",
    "word_vectors = torch_from_json(word_emb_file)"
   ]
  },
  {
   "cell_type": "code",
   "execution_count": null,
   "metadata": {
    "colab": {
     "base_uri": "https://localhost:8080/",
     "height": 229
    },
    "id": "N-4FexE3KHuj",
    "outputId": "fb47ae6b-30a7-4581-8675-f79b53be0d34"
   },
   "outputs": [],
   "source": [
    "# Get model\n",
    "#log.info('Building model...')\n",
    "model = BiDAF(word_vectors=word_vectors,\n",
    "              hidden_size=args.hidden_size,\n",
    "              drop_prob=args.drop_prob)\n",
    "#model = nn.DataParallel(model, args.gpu_ids)\n",
    "if args.load_path:\n",
    "    log.info(f'Loading checkpoint from {args.load_path}...')\n",
    "    model, step = util.load_model(model, args.load_path, args.gpu_ids)\n",
    "else:\n",
    "    step = 0\n",
    "model = model.to(device)\n",
    "model.train()\n",
    "ema = util.EMA(model, args.ema_decay)"
   ]
  },
  {
   "cell_type": "code",
   "execution_count": null,
   "metadata": {
    "colab": {
     "base_uri": "https://localhost:8080/",
     "height": 229
    },
    "id": "BxnOXK96Kryt",
    "outputId": "0b23a3a2-808e-42f6-9cc8-82f3825d8529"
   },
   "outputs": [],
   "source": [
    "# Get saver\n",
    "saver = CheckpointSaver(args.save_dir,\n",
    "                              max_checkpoints=args.max_checkpoints,\n",
    "                              metric_name=args.metric_name,\n",
    "                              maximize_metric=args.maximize_metric,\n",
    "                              log=log)\n",
    "\n"
   ]
  },
  {
   "cell_type": "code",
   "execution_count": null,
   "metadata": {
    "id": "efu9omJiLVMk"
   },
   "outputs": [],
   "source": [
    "# Get optimizer and scheduler\n",
    "optimizer = optim.Adadelta(model.parameters(), args.lr,\n",
    "                            weight_decay=args.l2_wd)\n",
    "scheduler = sched.LambdaLR(optimizer, lambda s: 1.)  # Constant LR"
   ]
  },
  {
   "cell_type": "code",
   "execution_count": null,
   "metadata": {
    "colab": {
     "base_uri": "https://localhost:8080/",
     "height": 229
    },
    "id": "6DOyjj8JJ6Jv",
    "outputId": "59f4cc95-78f2-441c-ed7e-9b5d4e68e4f7"
   },
   "outputs": [],
   "source": [
    "# Get data loader\n",
    "#log.info('Building dataset...')\n",
    "train_dataset = SQuAD(args.train_record_file, args.use_squad_v2)\n",
    "train_loader = data.DataLoader(train_dataset,\n",
    "                              batch_size=args.batch_size,\n",
    "                              shuffle=True,\n",
    "                              num_workers=args.num_workers,\n",
    "                              collate_fn=collate_fn)\n",
    "dev_dataset = SQuAD(args.dev_record_file, args.use_squad_v2)\n",
    "dev_loader = data.DataLoader(dev_dataset,\n",
    "                            batch_size=args.batch_size,\n",
    "                            shuffle=False,\n",
    "                            num_workers=args.num_workers,\n",
    "                            collate_fn=collate_fn)"
   ]
  },
  {
   "cell_type": "code",
   "execution_count": null,
   "metadata": {
    "colab": {
     "base_uri": "https://localhost:8080/",
     "height": 229
    },
    "id": "fX1JlhsWLpD0",
    "outputId": "04061e6f-52be-43f3-c970-0f91cfb1914e"
   },
   "outputs": [],
   "source": [
    "# Train\n",
    "# log.info('Training...')\n",
    "steps_till_eval = args.eval_steps\n",
    "epoch = step // len(train_dataset)\n",
    "while epoch != args.num_epochs:\n",
    "    epoch += 1\n",
    "    log.info(f'Starting epoch {epoch}...')\n",
    "    with torch.enable_grad(), \\\n",
    "            tqdm(total=len(train_loader.dataset)) as progress_bar:\n",
    "        for cw_idxs, cc_idxs, qw_idxs, qc_idxs, y1, y2, ids in train_loader:\n",
    "            # Setup for forward\n",
    "            cw_idxs = cw_idxs.to(device)\n",
    "            qw_idxs = qw_idxs.to(device)\n",
    "            batch_size = cw_idxs.size(0)\n",
    "            optimizer.zero_grad()\n",
    "\n",
    "            # Forward\n",
    "            log_p1, log_p2 = model(cw_idxs, qw_idxs)\n",
    "            y1, y2 = y1.to(device), y2.to(device)\n",
    "            loss = F.nll_loss(log_p1, y1) + F.nll_loss(log_p2, y2)\n",
    "            loss_val = loss.item()\n",
    "\n",
    "            # Backward\n",
    "            loss.backward()\n",
    "            nn.utils.clip_grad_norm_(model.parameters(), args.max_grad_norm)\n",
    "            optimizer.step()\n",
    "            scheduler.step(step // batch_size)\n",
    "            ema(model, step // batch_size)\n",
    "\n",
    "\n",
    "            # Evaluate and save checkpoint\n",
    "                    # log.info(f'Evaluating at step {step}...')\n",
    "                    ema.assign(model)\n",
    "                    results, pred_dict = evaluate(model, dev_loader, device,\n",
    "                                                  args.dev_eval_file,\n",
    "                                                  args.max_ans_len,\n",
    "                                                  args.use_squad_v2)\n",
    "                    saver.save(step, model, results[args.metric_name], device)\n",
    "                    ema.resume(model)\n"
   ]
  },
  {
   "cell_type": "code",
   "execution_count": null,
   "metadata": {
    "id": "PQdFysMT4LcI"
   },
   "outputs": [],
   "source": [
    "def evaluate(model, data_loader, device, eval_file, max_len, use_squad_v2):\n",
    "    nll_meter = util.AverageMeter()\n",
    "\n",
    "    model.eval()\n",
    "    pred_dict = {}\n",
    "    with open(eval_file, 'r') as fh:\n",
    "        gold_dict = json_load(fh)\n",
    "    with torch.no_grad(), \\\n",
    "            tqdm(total=len(data_loader.dataset)) as progress_bar:\n",
    "        for cw_idxs, cc_idxs, qw_idxs, qc_idxs, y1, y2, ids in data_loader:\n",
    "            # Setup for forward\n",
    "            cw_idxs = cw_idxs.to(device)\n",
    "            qw_idxs = qw_idxs.to(device)\n",
    "            batch_size = cw_idxs.size(0)\n",
    "\n",
    "            # Forward\n",
    "            log_p1, log_p2 = model(cw_idxs, qw_idxs)\n",
    "            y1, y2 = y1.to(device), y2.to(device)\n",
    "            loss = F.nll_loss(log_p1, y1) + F.nll_loss(log_p2, y2)\n",
    "            nll_meter.update(loss.item(), batch_size)\n",
    "\n",
    "            # Get F1 and EM scores\n",
    "            p1, p2 = log_p1.exp(), log_p2.exp()\n",
    "            starts, ends = util.discretize(p1, p2, max_len, use_squad_v2)\n",
    "\n",
    "            # Log info\n",
    "            progress_bar.update(batch_size)\n",
    "            progress_bar.set_postfix(NLL=nll_meter.avg)\n",
    "\n",
    "            preds, _ = util.convert_tokens(gold_dict,\n",
    "                                           ids.tolist(),\n",
    "                                           starts.tolist(),\n",
    "                                           ends.tolist(),\n",
    "                                           use_squad_v2)\n",
    "            pred_dict.update(preds)\n",
    "\n",
    "    model.train()\n",
    "\n",
    "    results = util.eval_dicts(gold_dict, pred_dict, use_squad_v2)\n",
    "    results_list = [('NLL', nll_meter.avg),\n",
    "                    ('F1', results['F1']),\n",
    "                    ('EM', results['EM'])]\n",
    "    if use_squad_v2:\n",
    "        results_list.append(('AvNA', results['AvNA']))\n",
    "    results = OrderedDict(results_list)\n",
    "\n",
    "    return results, pred_dict"
   ]
  },
  {
   "cell_type": "code",
   "execution_count": null,
   "metadata": {
    "id": "_ehODdYrNGN5"
   },
   "outputs": [],
   "source": []
  }
 ],
 "metadata": {
  "colab": {
   "collapsed_sections": [],
   "name": "project_example.ipynb",
   "provenance": [],
   "toc_visible": true
  },
  "kernelspec": {
   "display_name": "Python 3 (ipykernel)",
   "language": "python",
   "name": "python3"
  },
  "language_info": {
   "codemirror_mode": {
    "name": "ipython",
    "version": 3
   },
   "file_extension": ".py",
   "mimetype": "text/x-python",
   "name": "python",
   "nbconvert_exporter": "python",
   "pygments_lexer": "ipython3",
   "version": "3.8.8"
  }
 },
 "nbformat": 4,
 "nbformat_minor": 4
}
