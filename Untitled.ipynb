{
 "cells": [
  {
   "cell_type": "code",
   "execution_count": 1,
   "id": "823c4a8a-8c4b-4888-9219-f55c813f7711",
   "metadata": {
    "execution": {
     "iopub.execute_input": "2021-09-09T13:30:56.913820Z",
     "iopub.status.busy": "2021-09-09T13:30:56.913546Z",
     "iopub.status.idle": "2021-09-09T13:30:57.092494Z",
     "shell.execute_reply": "2021-09-09T13:30:57.091775Z",
     "shell.execute_reply.started": "2021-09-09T13:30:56.913764Z"
    }
   },
   "outputs": [],
   "source": [
    "import pandas as pd \n",
    "import numpy as np "
   ]
  },
  {
   "cell_type": "code",
   "execution_count": 3,
   "id": "67fe1492-614b-42c8-9bc2-1e69fdecb54e",
   "metadata": {
    "execution": {
     "iopub.execute_input": "2021-09-09T13:31:20.810643Z",
     "iopub.status.busy": "2021-09-09T13:31:20.810442Z",
     "iopub.status.idle": "2021-09-09T13:31:21.055008Z",
     "shell.execute_reply": "2021-09-09T13:31:21.054295Z",
     "shell.execute_reply.started": "2021-09-09T13:31:20.810622Z"
    },
    "tags": []
   },
   "outputs": [],
   "source": [
    "df = pd.read_pickle('./data/training_data')"
   ]
  },
  {
   "cell_type": "code",
   "execution_count": 5,
   "id": "fb79bd20-b5d2-47cf-b26d-bc55c599e4cc",
   "metadata": {
    "execution": {
     "iopub.execute_input": "2021-09-09T13:32:08.311757Z",
     "iopub.status.busy": "2021-09-09T13:32:08.311495Z",
     "iopub.status.idle": "2021-09-09T13:32:08.316597Z",
     "shell.execute_reply": "2021-09-09T13:32:08.315876Z",
     "shell.execute_reply.started": "2021-09-09T13:32:08.311739Z"
    },
    "tags": []
   },
   "outputs": [
    {
     "data": {
      "text/plain": [
       "(130319, 4)"
      ]
     },
     "execution_count": 5,
     "metadata": {},
     "output_type": "execute_result"
    }
   ],
   "source": [
    "df.shape"
   ]
  },
  {
   "cell_type": "code",
   "execution_count": null,
   "id": "362e30d9-c2f0-473b-afd2-e5c683d82da1",
   "metadata": {},
   "outputs": [],
   "source": []
  }
 ],
 "metadata": {
  "kernelspec": {
   "display_name": "Python 3",
   "language": "python",
   "name": "python3"
  },
  "language_info": {
   "codemirror_mode": {
    "name": "ipython",
    "version": 3
   },
   "file_extension": ".py",
   "mimetype": "text/x-python",
   "name": "python",
   "nbconvert_exporter": "python",
   "pygments_lexer": "ipython3",
   "version": "3.8.8"
  }
 },
 "nbformat": 4,
 "nbformat_minor": 5
}
